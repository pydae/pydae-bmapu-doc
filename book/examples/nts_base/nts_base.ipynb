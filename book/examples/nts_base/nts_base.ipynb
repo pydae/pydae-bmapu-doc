{
 "cells": [
  {
   "attachments": {},
   "cell_type": "markdown",
   "metadata": {},
   "source": [
    "## NTS base case\n",
    "\n",
    "<img src=\"nts.png\" width=\"600\">\n"
   ]
  },
  {
   "cell_type": "code",
   "execution_count": 1,
   "metadata": {},
   "outputs": [],
   "source": [
    "from pydae.bmapu import bmapu_builder"
   ]
  },
  {
   "cell_type": "code",
   "execution_count": 2,
   "metadata": {
    "scrolled": false
   },
   "outputs": [],
   "source": [
    "grid = bmapu_builder.bmapu('nts_base.json')\n",
    "grid.checker()\n",
    "grid.uz_jacs = True\n",
    "grid.verbose = False\n",
    "grid.build('nts')"
   ]
  },
  {
   "cell_type": "code",
   "execution_count": 3,
   "metadata": {},
   "outputs": [],
   "source": [
    "import numpy as np\n",
    "import matplotlib.pyplot as plt\n",
    "from pydae.bmapu.lines import  change_line\n",
    "import pydae.ssa as ssa\n",
    "from IPython.core.display import HTML,SVG\n",
    "import nts"
   ]
  },
  {
   "cell_type": "code",
   "execution_count": 16,
   "metadata": {},
   "outputs": [
    {
     "name": "stdout",
     "output_type": "stream",
     "text": [
      "P_g1 = 1389 MW, P_g4 = 3861 MW\n",
      "V_1   =  1.00\n",
      "theta_1 =  0.22\n",
      "V_2   =  0.98\n",
      "theta_2 =  0.07\n",
      "V_3   =  0.99\n",
      "theta_3 = -0.95\n",
      "V_4   =  1.00\n",
      "theta_4 = -0.83\n",
      "V_5   =  0.98\n",
      "theta_5 =  0.07\n",
      "i_d_1 =  0.86\n",
      "i_q_1 =  0.40\n",
      "p_g_1 =  0.93\n",
      "q_g_1 =  0.18\n",
      "v_f_1 =  2.42\n",
      "p_m_ref_1 =  0.93\n",
      "p_m_1 =  0.93\n",
      "v_pss_1 = -0.00\n",
      "i_d_4 =  0.64\n",
      "i_q_4 =  0.44\n",
      "p_g_4 =  0.77\n",
      "q_g_4 =  0.11\n",
      "v_f_4 =  1.84\n",
      "p_m_4 =  0.78\n",
      "omega_coi =  1.00\n",
      "p_agc = -0.12\n"
     ]
    }
   ],
   "source": [
    "lf = 1.0\n",
    "params = {'p_c_1':0.935*lf, # generator at bus 1 power reference\n",
    "          'P_2':-1250e6*lf,'P_3':-4000e6*lf, # loads\n",
    "          }\n",
    "\n",
    "\n",
    "model = nts.model()\n",
    "\n",
    "change_line(model,'2','3',R_pu=0.0,X_pu=0.6,S_mva=100)\n",
    "model.ini(params,'xy_0.json')\n",
    "model.save_xy_0('xy_1.json')\n",
    "\n",
    "S_n_1,S_n_4,p_g_1,p_g_4 = model.get_mvalue(['S_n_1','S_n_4','p_g_1','p_g_4'])\n",
    "print(f'P_g1 = {p_g_1*S_n_1/1e6:0.0f} MW, P_g4 = {p_g_4*S_n_4/1e6:0.0f} MW')\n",
    "model.report_y()"
   ]
  },
  {
   "cell_type": "markdown",
   "metadata": {},
   "source": [
    "## Small signal analysis"
   ]
  },
  {
   "cell_type": "code",
   "execution_count": 5,
   "metadata": {},
   "outputs": [
    {
     "data": {
      "text/html": [
       "<div>\n",
       "<style scoped>\n",
       "    .dataframe tbody tr th:only-of-type {\n",
       "        vertical-align: middle;\n",
       "    }\n",
       "\n",
       "    .dataframe tbody tr th {\n",
       "        vertical-align: top;\n",
       "    }\n",
       "\n",
       "    .dataframe thead th {\n",
       "        text-align: right;\n",
       "    }\n",
       "</style>\n",
       "<table border=\"1\" class=\"dataframe\">\n",
       "  <thead>\n",
       "    <tr style=\"text-align: right;\">\n",
       "      <th></th>\n",
       "      <th>Real</th>\n",
       "      <th>Imag</th>\n",
       "      <th>Freq.</th>\n",
       "      <th>Damp</th>\n",
       "    </tr>\n",
       "  </thead>\n",
       "  <tbody>\n",
       "    <tr>\n",
       "      <th>Mode 15</th>\n",
       "      <td>-0.17</td>\n",
       "      <td>-1.24</td>\n",
       "      <td>0.20</td>\n",
       "      <td>0.14</td>\n",
       "    </tr>\n",
       "    <tr>\n",
       "      <th>Mode 14</th>\n",
       "      <td>-0.17</td>\n",
       "      <td>1.24</td>\n",
       "      <td>0.20</td>\n",
       "      <td>0.14</td>\n",
       "    </tr>\n",
       "    <tr>\n",
       "      <th>Mode 22</th>\n",
       "      <td>-0.21</td>\n",
       "      <td>-0.38</td>\n",
       "      <td>0.06</td>\n",
       "      <td>0.48</td>\n",
       "    </tr>\n",
       "    <tr>\n",
       "      <th>Mode 21</th>\n",
       "      <td>-0.21</td>\n",
       "      <td>0.38</td>\n",
       "      <td>0.06</td>\n",
       "      <td>0.48</td>\n",
       "    </tr>\n",
       "    <tr>\n",
       "      <th>Mode 12</th>\n",
       "      <td>-2.01</td>\n",
       "      <td>-1.96</td>\n",
       "      <td>0.31</td>\n",
       "      <td>0.71</td>\n",
       "    </tr>\n",
       "    <tr>\n",
       "      <th>Mode 11</th>\n",
       "      <td>-2.01</td>\n",
       "      <td>1.96</td>\n",
       "      <td>0.31</td>\n",
       "      <td>0.71</td>\n",
       "    </tr>\n",
       "    <tr>\n",
       "      <th>Mode 17</th>\n",
       "      <td>-1.53</td>\n",
       "      <td>0.96</td>\n",
       "      <td>0.15</td>\n",
       "      <td>0.85</td>\n",
       "    </tr>\n",
       "    <tr>\n",
       "      <th>Mode 18</th>\n",
       "      <td>-1.53</td>\n",
       "      <td>-0.96</td>\n",
       "      <td>0.15</td>\n",
       "      <td>0.85</td>\n",
       "    </tr>\n",
       "    <tr>\n",
       "      <th>Mode 7</th>\n",
       "      <td>-9.59</td>\n",
       "      <td>-3.67</td>\n",
       "      <td>0.58</td>\n",
       "      <td>0.93</td>\n",
       "    </tr>\n",
       "    <tr>\n",
       "      <th>Mode 6</th>\n",
       "      <td>-9.59</td>\n",
       "      <td>3.67</td>\n",
       "      <td>0.58</td>\n",
       "      <td>0.93</td>\n",
       "    </tr>\n",
       "    <tr>\n",
       "      <th>Mode 9</th>\n",
       "      <td>-6.67</td>\n",
       "      <td>1.50</td>\n",
       "      <td>0.24</td>\n",
       "      <td>0.98</td>\n",
       "    </tr>\n",
       "    <tr>\n",
       "      <th>Mode 10</th>\n",
       "      <td>-6.67</td>\n",
       "      <td>-1.50</td>\n",
       "      <td>0.24</td>\n",
       "      <td>0.98</td>\n",
       "    </tr>\n",
       "    <tr>\n",
       "      <th>Mode 5</th>\n",
       "      <td>-13.11</td>\n",
       "      <td>-2.04</td>\n",
       "      <td>0.33</td>\n",
       "      <td>0.99</td>\n",
       "    </tr>\n",
       "    <tr>\n",
       "      <th>Mode 4</th>\n",
       "      <td>-13.11</td>\n",
       "      <td>2.04</td>\n",
       "      <td>0.33</td>\n",
       "      <td>0.99</td>\n",
       "    </tr>\n",
       "    <tr>\n",
       "      <th>Mode 28</th>\n",
       "      <td>-0.00</td>\n",
       "      <td>0.00</td>\n",
       "      <td>0.00</td>\n",
       "      <td>1.00</td>\n",
       "    </tr>\n",
       "    <tr>\n",
       "      <th>Mode 27</th>\n",
       "      <td>-0.41</td>\n",
       "      <td>0.00</td>\n",
       "      <td>0.00</td>\n",
       "      <td>1.00</td>\n",
       "    </tr>\n",
       "    <tr>\n",
       "      <th>Mode 29</th>\n",
       "      <td>-0.00</td>\n",
       "      <td>0.00</td>\n",
       "      <td>0.00</td>\n",
       "      <td>1.00</td>\n",
       "    </tr>\n",
       "    <tr>\n",
       "      <th>Mode 30</th>\n",
       "      <td>-0.00</td>\n",
       "      <td>0.00</td>\n",
       "      <td>0.00</td>\n",
       "      <td>1.00</td>\n",
       "    </tr>\n",
       "    <tr>\n",
       "      <th>Mode 26</th>\n",
       "      <td>-0.50</td>\n",
       "      <td>0.00</td>\n",
       "      <td>0.00</td>\n",
       "      <td>1.00</td>\n",
       "    </tr>\n",
       "    <tr>\n",
       "      <th>Mode 25</th>\n",
       "      <td>-0.50</td>\n",
       "      <td>0.00</td>\n",
       "      <td>0.00</td>\n",
       "      <td>1.00</td>\n",
       "    </tr>\n",
       "    <tr>\n",
       "      <th>Mode 24</th>\n",
       "      <td>-0.63</td>\n",
       "      <td>0.00</td>\n",
       "      <td>0.00</td>\n",
       "      <td>1.00</td>\n",
       "    </tr>\n",
       "    <tr>\n",
       "      <th>Mode 1</th>\n",
       "      <td>-1.00</td>\n",
       "      <td>0.00</td>\n",
       "      <td>0.00</td>\n",
       "      <td>1.00</td>\n",
       "    </tr>\n",
       "    <tr>\n",
       "      <th>Mode 16</th>\n",
       "      <td>-2.42</td>\n",
       "      <td>0.00</td>\n",
       "      <td>0.00</td>\n",
       "      <td>1.00</td>\n",
       "    </tr>\n",
       "    <tr>\n",
       "      <th>Mode 20</th>\n",
       "      <td>-1.88</td>\n",
       "      <td>-0.08</td>\n",
       "      <td>0.01</td>\n",
       "      <td>1.00</td>\n",
       "    </tr>\n",
       "    <tr>\n",
       "      <th>Mode 19</th>\n",
       "      <td>-1.88</td>\n",
       "      <td>0.08</td>\n",
       "      <td>0.01</td>\n",
       "      <td>1.00</td>\n",
       "    </tr>\n",
       "    <tr>\n",
       "      <th>Mode 31</th>\n",
       "      <td>-0.00</td>\n",
       "      <td>0.00</td>\n",
       "      <td>0.00</td>\n",
       "      <td>1.00</td>\n",
       "    </tr>\n",
       "    <tr>\n",
       "      <th>Mode 13</th>\n",
       "      <td>-3.45</td>\n",
       "      <td>0.00</td>\n",
       "      <td>0.00</td>\n",
       "      <td>1.00</td>\n",
       "    </tr>\n",
       "    <tr>\n",
       "      <th>Mode 8</th>\n",
       "      <td>-10.18</td>\n",
       "      <td>0.00</td>\n",
       "      <td>0.00</td>\n",
       "      <td>1.00</td>\n",
       "    </tr>\n",
       "    <tr>\n",
       "      <th>Mode 3</th>\n",
       "      <td>-23.74</td>\n",
       "      <td>0.00</td>\n",
       "      <td>0.00</td>\n",
       "      <td>1.00</td>\n",
       "    </tr>\n",
       "    <tr>\n",
       "      <th>Mode 2</th>\n",
       "      <td>-47.29</td>\n",
       "      <td>0.00</td>\n",
       "      <td>0.00</td>\n",
       "      <td>1.00</td>\n",
       "    </tr>\n",
       "    <tr>\n",
       "      <th>Mode 23</th>\n",
       "      <td>-1.00</td>\n",
       "      <td>0.00</td>\n",
       "      <td>0.00</td>\n",
       "      <td>1.00</td>\n",
       "    </tr>\n",
       "    <tr>\n",
       "      <th>Mode 32</th>\n",
       "      <td>-0.00</td>\n",
       "      <td>0.00</td>\n",
       "      <td>0.00</td>\n",
       "      <td>1.00</td>\n",
       "    </tr>\n",
       "  </tbody>\n",
       "</table>\n",
       "</div>"
      ],
      "text/plain": [
       "          Real  Imag  Freq.  Damp\n",
       "Mode 15  -0.17 -1.24   0.20  0.14\n",
       "Mode 14  -0.17  1.24   0.20  0.14\n",
       "Mode 22  -0.21 -0.38   0.06  0.48\n",
       "Mode 21  -0.21  0.38   0.06  0.48\n",
       "Mode 12  -2.01 -1.96   0.31  0.71\n",
       "Mode 11  -2.01  1.96   0.31  0.71\n",
       "Mode 17  -1.53  0.96   0.15  0.85\n",
       "Mode 18  -1.53 -0.96   0.15  0.85\n",
       "Mode 7   -9.59 -3.67   0.58  0.93\n",
       "Mode 6   -9.59  3.67   0.58  0.93\n",
       "Mode 9   -6.67  1.50   0.24  0.98\n",
       "Mode 10  -6.67 -1.50   0.24  0.98\n",
       "Mode 5  -13.11 -2.04   0.33  0.99\n",
       "Mode 4  -13.11  2.04   0.33  0.99\n",
       "Mode 28  -0.00  0.00   0.00  1.00\n",
       "Mode 27  -0.41  0.00   0.00  1.00\n",
       "Mode 29  -0.00  0.00   0.00  1.00\n",
       "Mode 30  -0.00  0.00   0.00  1.00\n",
       "Mode 26  -0.50  0.00   0.00  1.00\n",
       "Mode 25  -0.50  0.00   0.00  1.00\n",
       "Mode 24  -0.63  0.00   0.00  1.00\n",
       "Mode 1   -1.00  0.00   0.00  1.00\n",
       "Mode 16  -2.42  0.00   0.00  1.00\n",
       "Mode 20  -1.88 -0.08   0.01  1.00\n",
       "Mode 19  -1.88  0.08   0.01  1.00\n",
       "Mode 31  -0.00  0.00   0.00  1.00\n",
       "Mode 13  -3.45  0.00   0.00  1.00\n",
       "Mode 8  -10.18  0.00   0.00  1.00\n",
       "Mode 3  -23.74  0.00   0.00  1.00\n",
       "Mode 2  -47.29  0.00   0.00  1.00\n",
       "Mode 23  -1.00  0.00   0.00  1.00\n",
       "Mode 32  -0.00  0.00   0.00  1.00"
      ]
     },
     "execution_count": 5,
     "metadata": {},
     "output_type": "execute_result"
    }
   ],
   "source": [
    "ssa.A_eval(model);\n",
    "ssa.damp_report(model).round(2).sort_values('Damp')"
   ]
  },
  {
   "cell_type": "code",
   "execution_count": 6,
   "metadata": {},
   "outputs": [
    {
     "data": {
      "image/png": "[encoded data removed]",
      "text/plain": [
       "<Figure size 640x480 with 1 Axes>"
      ]
     },
     "metadata": {},
     "output_type": "display_data"
    }
   ],
   "source": [
    "ssa.plot_eig(model.eigvalues, x_min=-4,x_max=0.1,y_min=0,y_max=1);"
   ]
  },
  {
   "cell_type": "markdown",
   "metadata": {},
   "source": [
    "### Participation factors"
   ]
  },
  {
   "cell_type": "code",
   "execution_count": 7,
   "metadata": {},
   "outputs": [
    {
     "data": {
      "text/plain": [
       "delta_1      0.39\n",
       "omega_1      0.30\n",
       "omega_4      0.19\n",
       "delta_4      0.12\n",
       "x_lpf7_1     0.06\n",
       "x_wo2_1      0.04\n",
       "x_wo1_1      0.04\n",
       "xi_v_1       0.03\n",
       "x_ll1_1      0.03\n",
       "x_4_gov_4    0.02\n",
       "x_5_gov_4    0.02\n",
       "x_wo3_1      0.02\n",
       "e1q_1        0.02\n",
       "x_ll3_1      0.02\n",
       "x_3_gov_4    0.01\n",
       "x_6_gov_4    0.01\n",
       "e1d_1        0.01\n",
       "e1q_4        0.01\n",
       "xi_v_4       0.00\n",
       "x_cb_4       0.00\n",
       "e1d_4        0.00\n",
       "x_9_3_1      0.00\n",
       "x_9_5_1      0.00\n",
       "x_9_4_1      0.00\n",
       "x_9_2_1      0.00\n",
       "x_9_1_1      0.00\n",
       "xi_imw_1     0.00\n",
       "x_gov_2_1    0.00\n",
       "x_gov_1_1    0.00\n",
       "xi_m_1       0.00\n",
       "x_a_1        0.00\n",
       "xi_freq      0.00\n",
       "Name: Mode 15, dtype: float64"
      ]
     },
     "execution_count": 7,
     "metadata": {},
     "output_type": "execute_result"
    }
   ],
   "source": [
    "ssa.participation(model)['Mode 15'].abs().round(2).sort_values(ascending=False)"
   ]
  },
  {
   "cell_type": "code",
   "execution_count": 8,
   "metadata": {},
   "outputs": [
    {
     "data": {
      "text/plain": [
       "delta_1      0.39\n",
       "omega_1      0.30\n",
       "omega_4      0.19\n",
       "delta_4      0.12\n",
       "x_lpf7_1     0.06\n",
       "x_wo2_1      0.04\n",
       "x_wo1_1      0.04\n",
       "xi_v_1       0.03\n",
       "x_ll1_1      0.03\n",
       "x_4_gov_4    0.02\n",
       "x_5_gov_4    0.02\n",
       "x_wo3_1      0.02\n",
       "e1q_1        0.02\n",
       "x_ll3_1      0.02\n",
       "x_3_gov_4    0.01\n",
       "x_6_gov_4    0.01\n",
       "e1d_1        0.01\n",
       "e1q_4        0.01\n",
       "xi_v_4       0.00\n",
       "x_cb_4       0.00\n",
       "e1d_4        0.00\n",
       "x_9_3_1      0.00\n",
       "x_9_5_1      0.00\n",
       "x_9_4_1      0.00\n",
       "x_9_2_1      0.00\n",
       "x_9_1_1      0.00\n",
       "xi_imw_1     0.00\n",
       "x_gov_2_1    0.00\n",
       "x_gov_1_1    0.00\n",
       "xi_m_1       0.00\n",
       "x_a_1        0.00\n",
       "xi_freq      0.00\n",
       "Name: Mode 15, dtype: float64"
      ]
     },
     "execution_count": 8,
     "metadata": {},
     "output_type": "execute_result"
    }
   ],
   "source": [
    "ssa.participation(model)['Mode 15'].abs().round(2).sort_values(ascending=False)"
   ]
  },
  {
   "cell_type": "markdown",
   "metadata": {},
   "source": [
    "### Mode shapes"
   ]
  },
  {
   "cell_type": "code",
   "execution_count": 9,
   "metadata": {},
   "outputs": [
    {
     "data": {
      "image/svg+xml": [
       "<svg xmlns=\"http://www.w3.org/2000/svg\" height=\"400\" width=\"400\" id=\"tooltip-svg-5\">\n",
       "            <style>\n",
       "                #tooltip {\n",
       "                    dominant-baseline: hanging; \n",
       "                }\n",
       "            </style>\n",
       "            \n",
       "            <circle cx=\"200\" cy=\"200\" r=\"190\" stroke=\"#888888\" stroke-width=\"3\" fill=\"#DDDDDD\"/>\n",
       "\n",
       "        <path d=\"M 200,200 h 1.32292 v -52.916665 h 1.32291 l -2.64583,-5.291666 -2.64583,5.291666 h 1.32291 v 52.916665 z\" fill=\"#337ab7\" id=\"arrow_1\" class=\"tooltip-trigger\" data-tooltip-text=\"omega_1\" fill-opacity=\"0.5\" stroke-width=\"0\" transform=\"translate(-400.0,-400.0) scale(3.0)  rotate(81.78868394632464,200,200)\"/><path d=\"M 200,200 h 1.32292 v -52.916665 h 1.32291 l -2.64583,-5.291666 -2.64583,5.291666 h 1.32291 v 52.916665 z\" fill=\"#337ab7\" id=\"arrow_1\" class=\"tooltip-trigger\" data-tooltip-text=\"omega_4\" fill-opacity=\"0.5\" stroke-width=\"0\" transform=\"translate(-218.50951301878442,-218.50951301878442) scale(2.092547565093922)  rotate(-101.34642915870678,200,200)\"/>    \n",
       "        \n",
       "        <g id=\"tooltip\" visibility=\"hidden\">\n",
       "\n",
       "                <rect width=\"80\" height=\"24\" fill=\"white\" rx=\"2\" ry=\"2\"/>\n",
       "                <text x=\"3\" y=\"6\">Tooltip</text>\n",
       "            </g>\n",
       "\n",
       "\n",
       "            <script type=\"text/ecmascript\"><![CDATA[\n",
       "                (function() {\n",
       "                    var svg = document.getElementById('tooltip-svg-5');\n",
       "                    var tooltip = svg.getElementById('tooltip');\n",
       "                    var tooltipText = tooltip.getElementsByTagName('text')[0].firstChild;\n",
       "                    var triggers = svg.getElementsByClassName('tooltip-trigger');\n",
       "\n",
       "                    for (var i = 0; i < triggers.length; i++) {\n",
       "                        triggers[i].addEventListener('mousemove', showTooltip);\n",
       "                        triggers[i].addEventListener('mouseout', hideTooltip);\n",
       "                    }\n",
       "\n",
       "                    function showTooltip(evt) {\n",
       "                        var CTM = svg.getScreenCTM();\n",
       "                        var x = (evt.clientX - CTM.e + 6) / CTM.a;\n",
       "                        var y = (evt.clientY - CTM.f + 20) / CTM.d;\n",
       "                        tooltip.setAttributeNS(null, \"transform\", \"translate(\" + x + \" \" + y + \")\");\n",
       "                        tooltip.setAttributeNS(null, \"visibility\", \"visible\");\n",
       "                        tooltipText.data = evt.target.getAttributeNS(null, \"data-tooltip-text\");\n",
       "                    }\n",
       "\n",
       "                    function hideTooltip(evt) {\n",
       "                        tooltip.setAttributeNS(null, \"visibility\", \"hidden\");\n",
       "                    }\n",
       "                })()\n",
       "            ]]></script>\n",
       "        </svg>"
      ],
      "text/plain": [
       "<IPython.core.display.SVG object>"
      ]
     },
     "execution_count": 9,
     "metadata": {},
     "output_type": "execute_result"
    }
   ],
   "source": [
    "ssa.shape2df(model)\n",
    "SVG(ssa.plot_shapes(model,mode='Mode 15',    states=['omega_1', 'omega_4']))"
   ]
  },
  {
   "cell_type": "markdown",
   "metadata": {},
   "source": [
    "## Time domain simulation"
   ]
  },
  {
   "cell_type": "code",
   "execution_count": 10,
   "metadata": {},
   "outputs": [],
   "source": [
    "model.Dt = 0.01\n",
    "params.update({'T_b_4':10.0,'v_ref_1':1.0,'v_ref_4':1.0,'K_a_4':200,\"Droop_1\":1000.0})\n",
    "\n",
    "model.ini(params,'xy_1.json')\n",
    "\n",
    "model.run( 1.0,{'v_ref_4':1.0})\n",
    "model.run( 40.0,{'v_ref_4':1.02})\n",
    "\n",
    "model.post();"
   ]
  },
  {
   "cell_type": "code",
   "execution_count": 11,
   "metadata": {},
   "outputs": [
    {
     "data": {
      "image/png": "[encoded data removed]",
      "text/plain": [
       "<Figure size 640x480 with 2 Axes>"
      ]
     },
     "metadata": {},
     "output_type": "display_data"
    }
   ],
   "source": [
    "fig,axes = plt.subplots(nrows=2, sharex=True)\n",
    "axes[0].plot(model.Time,  model.get_values('p_g_1')*model.get_value('S_n_1')/1e6,label='p_g_1')\n",
    "#axes[0].plot(model.Time,  model.get_values('p_m_1'),label='p_m_1')\n",
    "\n",
    "axes[1].plot(model.Time,  model.get_values('V_1'),label='V_1')\n",
    "axes[1].plot(model.Time,  model.get_values('V_4'),label='V_4')\n",
    "\n",
    "for ax in axes:\n",
    "    ax.grid()\n",
    "    ax.legend()"
   ]
  },
  {
   "cell_type": "code",
   "execution_count": 12,
   "metadata": {},
   "outputs": [
    {
     "data": {
      "text/plain": [
       "<matplotlib.legend.Legend at 0x1c752969c00>"
      ]
     },
     "execution_count": 12,
     "metadata": {},
     "output_type": "execute_result"
    },
    {
     "data": {
      "image/png": "[encoded data removed]",
      "text/plain": [
       "<Figure size 640x480 with 1 Axes>"
      ]
     },
     "metadata": {},
     "output_type": "display_data"
    }
   ],
   "source": [
    "fig,axes = plt.subplots(nrows=1, sharex=True)\n",
    "\n",
    "axes.plot(model.Time,  model.get_values('omega_1'),label='omega_1')\n",
    "axes.plot(model.Time,  model.get_values('omega_4'),label='omega_4')\n",
    "axes.grid()\n",
    "axes.legend()"
   ]
  }
 ],
 "metadata": {
  "kernelspec": {
   "display_name": "base",
   "language": "python",
   "name": "python3"
  },
  "language_info": {
   "codemirror_mode": {
    "name": "ipython",
    "version": 3
   },
   "file_extension": ".py",
   "mimetype": "text/x-python",
   "name": "python",
   "nbconvert_exporter": "python",
   "pygments_lexer": "ipython3",
   "version": "3.10.11"
  },
  "vscode": {
   "interpreter": {
    "hash": "1b1fd1016f48c91706a48f1be322d44ea1680db2bb213f1ce174a5eccfd1e534"
   }
  }
 },
 "nbformat": 4,
 "nbformat_minor": 4
}
