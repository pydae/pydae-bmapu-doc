{
 "cells": [
  {
   "cell_type": "markdown",
   "metadata": {},
   "source": [
    "## SMIB\n",
    "\n",
    "Synchronous Machine Infinite Bus (SMIB) system"
   ]
  },
  {
   "cell_type": "markdown",
   "metadata": {},
   "source": [
    "### System building"
   ]
  },
  {
   "cell_type": "code",
   "execution_count": 1,
   "metadata": {},
   "outputs": [],
   "source": [
    "from pydae.bmapu import bmapu_builder"
   ]
  },
  {
   "cell_type": "markdown",
   "metadata": {},
   "source": [
    "#### System data"
   ]
  },
  {
   "cell_type": "code",
   "execution_count": 2,
   "metadata": {},
   "outputs": [],
   "source": [
    "data = {\n",
    "\"system\":{\"name\":\"smib\",\"S_base\":100e6, \"K_p_agc\":0.0,\"K_i_agc\":0.0,\"K_xif\":0.01},       \n",
    "\"buses\":[{\"name\":\"1\", \"P_W\":0.0,\"Q_var\":0.0,\"U_kV\":20.0},\n",
    "         {\"name\":\"2\", \"P_W\":0.0,\"Q_var\":0.0,\"U_kV\":20.0}\n",
    "        ],\n",
    "\"lines\":[{\"bus_j\":\"1\", \"bus_k\":\"2\", \"X_pu\":0.05,\"R_pu\":0.01,\"Bs_pu\":1e-6,\"S_mva\":100.0}],\n",
    "\"syns\":[\n",
    "      {\"bus\":\"1\",\"S_n\":100e6,\n",
    "         \"X_d\":1.8,\"X1d\":0.3, \"T1d0\":8.0,    \n",
    "         \"X_q\":1.7,\"X1q\":0.55,\"T1q0\":0.4,  \n",
    "         \"R_a\":0.01,\"X_l\": 0.2, \n",
    "         \"H\":5.0,\"D\":1.0,\n",
    "         \"Omega_b\":314.1592653589793,\"omega_s\":1.0,\"K_sec\":0.0,\n",
    "         \"avr\":{\"type\":\"kundur_tgr\",\"K_a\":200,\"T_r\":0.01,\"E_fmin\":-5,\"E_fmax\":10.0,\"T_a\":1,\"T_b\":10,\"v_ref\":1.03},\n",
    "         \"pss\":{\"type\":\"pss_kundur_2\",\"K_stab\":20, \"T_1\":0.05, \"T_2\":0.02, \"T_3\":3.0, \"T_4\":5.4, \"T_w\":10.0},      \n",
    "         \"gov\":{\"type\":\"tgov1\",\"Droop\":0.05,\"T_1\":1.0,\"T_2\":1.0,\"T_3\":1.0,\"D_t\":0.0,\"K_sec\":0.0,\"p_c\":0.8},\n",
    "         \"K_delta\":0.0}],\n",
    "\"genapes\":[{\"bus\":\"2\",\"S_n\":1e9,\"F_n\":50.0,\"X_v\":0.001,\"R_v\":0.0,\"K_delta\":0.001,\"K_alpha\":1e-6}]\n",
    "}"
   ]
  },
  {
   "cell_type": "markdown",
   "metadata": {},
   "source": [
    "#### System generation and compilation"
   ]
  },
  {
   "cell_type": "code",
   "execution_count": 3,
   "metadata": {},
   "outputs": [],
   "source": [
    "grid = bmapu_builder.bmapu(data)\n",
    "grid.checker()\n",
    "grid.uz_jacs = True\n",
    "grid.verbose = False\n",
    "grid.build('smib')"
   ]
  },
  {
   "cell_type": "markdown",
   "metadata": {},
   "source": [
    "### System analysis and simulation"
   ]
  },
  {
   "cell_type": "code",
   "execution_count": 4,
   "metadata": {},
   "outputs": [],
   "source": [
    "import numpy as np\n",
    "import matplotlib.pyplot as plt\n",
    "import pydae.ssa as ssa\n",
    "from IPython.core.display import HTML,SVG\n",
    "%matplotlib inline\n",
    "import matplotlib_inline\n",
    "matplotlib_inline.backend_inline.set_matplotlib_formats('svg')"
   ]
  },
  {
   "cell_type": "markdown",
   "metadata": {},
   "source": [
    "#### Initialization"
   ]
  },
  {
   "cell_type": "code",
   "execution_count": 5,
   "metadata": {},
   "outputs": [],
   "source": [
    "import smib"
   ]
  },
  {
   "cell_type": "code",
   "execution_count": 6,
   "metadata": {},
   "outputs": [
    {
     "data": {
      "text/plain": [
       "True"
      ]
     },
     "execution_count": 6,
     "metadata": {},
     "output_type": "execute_result"
    }
   ],
   "source": [
    "model = smib.model()\n",
    "model.ini({'p_c_1':1.0,'T_b_1':1.0},'xy_0.json')"
   ]
  },
  {
   "cell_type": "code",
   "execution_count": 8,
   "metadata": {},
   "outputs": [
    {
     "name": "stdout",
     "output_type": "stream",
     "text": [
      "delta_1 =  0.79\n",
      "omega_1 =  1.00\n",
      "e1q_1 =  1.05\n",
      "e1d_1 =  0.48\n",
      "v_r_1 =  1.03\n",
      "x_ab_1 =  2.50\n",
      "xi_v_1 = 12485.84\n",
      "x_gov_1_1 =  1.00\n",
      "x_gov_2_1 =  1.00\n",
      "x_wo_1 =  0.00\n",
      "x_12_1 =  0.00\n",
      "x_34_1 =  0.00\n",
      "delta_2 =  0.00\n",
      "Domega_2 =  0.00\n",
      "Dv_2  =  0.00\n",
      "xi_freq =  0.00\n",
      "V_1   =  1.03\n",
      "theta_1 =  0.04\n",
      "V_2   =  1.00\n",
      "theta_2 =  0.00\n",
      "i_d_1 =  0.96\n",
      "i_q_1 =  0.42\n",
      "p_g_1 =  0.99\n",
      "q_g_1 =  0.44\n",
      "v_f_1 =  2.50\n",
      "p_m_ref_1 =  1.00\n",
      "p_m_1 =  1.00\n",
      "v_pss_1 =  0.00\n",
      "omega_2 =  1.00\n",
      "i_d_2 = -0.04\n",
      "i_q_2 = -0.10\n",
      "p_s_2 = -0.10\n",
      "q_s_2 = -0.04\n",
      "omega_coi =  1.00\n",
      "p_agc =  0.00\n"
     ]
    }
   ],
   "source": [
    "model.report_x()\n",
    "model.report_y()"
   ]
  },
  {
   "cell_type": "markdown",
   "metadata": {},
   "source": [
    "#### Small signal analysis"
   ]
  },
  {
   "cell_type": "code",
   "execution_count": 9,
   "metadata": {},
   "outputs": [
    {
     "data": {
      "text/html": [
       "<div>\n",
       "<style scoped>\n",
       "    .dataframe tbody tr th:only-of-type {\n",
       "        vertical-align: middle;\n",
       "    }\n",
       "\n",
       "    .dataframe tbody tr th {\n",
       "        vertical-align: top;\n",
       "    }\n",
       "\n",
       "    .dataframe thead th {\n",
       "        text-align: right;\n",
       "    }\n",
       "</style>\n",
       "<table border=\"1\" class=\"dataframe\">\n",
       "  <thead>\n",
       "    <tr style=\"text-align: right;\">\n",
       "      <th></th>\n",
       "      <th>Real</th>\n",
       "      <th>Imag</th>\n",
       "      <th>Freq.</th>\n",
       "      <th>Damp</th>\n",
       "    </tr>\n",
       "  </thead>\n",
       "  <tbody>\n",
       "    <tr>\n",
       "      <th>Mode 6</th>\n",
       "      <td>-2.38</td>\n",
       "      <td>12.08</td>\n",
       "      <td>1.92</td>\n",
       "      <td>0.19</td>\n",
       "    </tr>\n",
       "    <tr>\n",
       "      <th>Mode 7</th>\n",
       "      <td>-2.38</td>\n",
       "      <td>-12.08</td>\n",
       "      <td>1.92</td>\n",
       "      <td>0.19</td>\n",
       "    </tr>\n",
       "    <tr>\n",
       "      <th>Mode 1</th>\n",
       "      <td>-1.00</td>\n",
       "      <td>0.00</td>\n",
       "      <td>0.00</td>\n",
       "      <td>1.00</td>\n",
       "    </tr>\n",
       "    <tr>\n",
       "      <th>Mode 2</th>\n",
       "      <td>-1.00</td>\n",
       "      <td>0.00</td>\n",
       "      <td>0.00</td>\n",
       "      <td>1.00</td>\n",
       "    </tr>\n",
       "    <tr>\n",
       "      <th>Mode 3</th>\n",
       "      <td>-0.01</td>\n",
       "      <td>0.00</td>\n",
       "      <td>0.00</td>\n",
       "      <td>1.00</td>\n",
       "    </tr>\n",
       "    <tr>\n",
       "      <th>Mode 4</th>\n",
       "      <td>-96.92</td>\n",
       "      <td>0.00</td>\n",
       "      <td>0.00</td>\n",
       "      <td>1.00</td>\n",
       "    </tr>\n",
       "    <tr>\n",
       "      <th>Mode 5</th>\n",
       "      <td>-47.92</td>\n",
       "      <td>0.00</td>\n",
       "      <td>0.00</td>\n",
       "      <td>1.00</td>\n",
       "    </tr>\n",
       "    <tr>\n",
       "      <th>Mode 8</th>\n",
       "      <td>-7.07</td>\n",
       "      <td>0.00</td>\n",
       "      <td>0.00</td>\n",
       "      <td>1.00</td>\n",
       "    </tr>\n",
       "    <tr>\n",
       "      <th>Mode 9</th>\n",
       "      <td>-1.47</td>\n",
       "      <td>0.00</td>\n",
       "      <td>0.00</td>\n",
       "      <td>1.00</td>\n",
       "    </tr>\n",
       "    <tr>\n",
       "      <th>Mode 10</th>\n",
       "      <td>-0.91</td>\n",
       "      <td>0.00</td>\n",
       "      <td>0.00</td>\n",
       "      <td>1.00</td>\n",
       "    </tr>\n",
       "    <tr>\n",
       "      <th>Mode 11</th>\n",
       "      <td>-0.16</td>\n",
       "      <td>0.00</td>\n",
       "      <td>0.00</td>\n",
       "      <td>1.00</td>\n",
       "    </tr>\n",
       "    <tr>\n",
       "      <th>Mode 12</th>\n",
       "      <td>-0.11</td>\n",
       "      <td>0.00</td>\n",
       "      <td>0.00</td>\n",
       "      <td>1.00</td>\n",
       "    </tr>\n",
       "    <tr>\n",
       "      <th>Mode 13</th>\n",
       "      <td>-0.00</td>\n",
       "      <td>0.00</td>\n",
       "      <td>0.00</td>\n",
       "      <td>1.00</td>\n",
       "    </tr>\n",
       "    <tr>\n",
       "      <th>Mode 14</th>\n",
       "      <td>-0.00</td>\n",
       "      <td>0.00</td>\n",
       "      <td>0.00</td>\n",
       "      <td>1.00</td>\n",
       "    </tr>\n",
       "    <tr>\n",
       "      <th>Mode 15</th>\n",
       "      <td>-0.00</td>\n",
       "      <td>0.00</td>\n",
       "      <td>0.00</td>\n",
       "      <td>1.00</td>\n",
       "    </tr>\n",
       "    <tr>\n",
       "      <th>Mode 16</th>\n",
       "      <td>-0.00</td>\n",
       "      <td>0.00</td>\n",
       "      <td>0.00</td>\n",
       "      <td>1.00</td>\n",
       "    </tr>\n",
       "  </tbody>\n",
       "</table>\n",
       "</div>"
      ],
      "text/plain": [
       "          Real   Imag  Freq.  Damp\n",
       "Mode 6   -2.38  12.08   1.92  0.19\n",
       "Mode 7   -2.38 -12.08   1.92  0.19\n",
       "Mode 1   -1.00   0.00   0.00  1.00\n",
       "Mode 2   -1.00   0.00   0.00  1.00\n",
       "Mode 3   -0.01   0.00   0.00  1.00\n",
       "Mode 4  -96.92   0.00   0.00  1.00\n",
       "Mode 5  -47.92   0.00   0.00  1.00\n",
       "Mode 8   -7.07   0.00   0.00  1.00\n",
       "Mode 9   -1.47   0.00   0.00  1.00\n",
       "Mode 10  -0.91   0.00   0.00  1.00\n",
       "Mode 11  -0.16   0.00   0.00  1.00\n",
       "Mode 12  -0.11   0.00   0.00  1.00\n",
       "Mode 13  -0.00   0.00   0.00  1.00\n",
       "Mode 14  -0.00   0.00   0.00  1.00\n",
       "Mode 15  -0.00   0.00   0.00  1.00\n",
       "Mode 16  -0.00   0.00   0.00  1.00"
      ]
     },
     "execution_count": 9,
     "metadata": {},
     "output_type": "execute_result"
    }
   ],
   "source": [
    "ssa.A_eval(model)\n",
    "damp = ssa.damp_report(model)\n",
    "damp.sort_values('Damp').round(2)"
   ]
  },
  {
   "cell_type": "markdown",
   "metadata": {},
   "source": [
    "#### Time domain simulation"
   ]
  },
  {
   "cell_type": "code",
   "execution_count": 12,
   "metadata": {},
   "outputs": [
    {
     "data": {
      "image/svg+xml": "<?xml version=\"1.0\" encoding=\"utf-8\" standalone=\"no\"?>\n<!DOCTYPE svg PUBLIC \"-//W3C//DTD SVG 1.1//EN\"\n  \"http://www.w3.org/Graphics/SVG/1.1/DTD/svg11.dtd\">\n<svg xmlns:xlink=\"http://www.w3.org/1999/xlink\" width=\"453.435937pt\" height=\"337.407091pt\" viewBox=\"0 0 453.435937 337.407091\" xmlns=\"http://www.w3.org/2000/svg\" version=\"1.1\">\n <metadata>\n  <rdf:RDF xmlns:dc=\"http://purl.org/dc/elements/1.1/\" xmlns:cc=\"http://creativecommons.org/ns#\" xmlns:rdf=\"http://www.w3.org/1999/02/22-rdf-syntax-ns#\">\n   <cc:Work>\n    <dc:type rdf:resource=\"http://purl.org/dc/dcmitype/StillImage\"/>\n    <dc:date>2023-02-28T07:38:00.848698</dc:date>\n    <dc:format>image/svg+xml</dc:format>\n    <dc:creator>\n     <cc:Agent>\n      <dc:title>Matplotlib v3.5.2, https://matplotlib.org/</dc:title>\n     </cc:Agent>\n    </dc:creator>\n   </cc:Work>\n  </rdf:RDF>\n </metadata>\n <defs>\n  <style type=\"text/css\">*{stroke-linejoin: round; stroke-linecap: butt}</style>\n </defs>\n <g id=\"figure_1\">\n  <g id=\"patch_1\">\n   <path d=\"M 0 337.407091 \nL 453.435937 337.407091 \nL 453.435937 0 \nL 0 0 \nz\n\" style=\"fill: #ffffff\"/>\n  </g>\n  <g id=\"axes_1\">\n   <g id=\"patch_2\">\n    <path d=\"M 55.553125 86.305743 \nL 435.103125 86.305743 \nL 435.103125 7.413194 \nL 55.553125 7.413194 \nz\n\" style=\"fill: #ffffff\"/>\n   </g>\n   <g id=\"matplotlib.axis_1\">\n    <g id=\"xtick_1\">\n     <g id=\"line2d_1\">\n      <path d=\"M 55.553125 86.305743 \nL 55.553125 7.413194 \n\" clip-path=\"url(#pd7de775cee)\" style=\"fill: none; stroke: #b0b0b0; stroke-width: 0.8; stroke-linecap: square\"/>\n     </g>\n     <g id=\"line2d_2\">\n      <defs>\n       <path id=\"mbf2d463e70\" d=\"M 0 0 \nL 0 3.5 \n\" style=\"stroke: #000000; stroke-width: 0.8\"/>\n      </defs>\n      <g>\n       <use xlink:href=\"#mbf2d463e70\" x=\"55.553125\" y=\"86.305743\" style=\"stroke: #000000; stroke-width: 0.8\"/>\n      </g>\n     </g>\n     <g id=\"text_1\">\n      <!-- 0.0 -->\n      <g transform=\"translate(47.601563 100.90418)scale(0.1 -0.1)\">\n       <defs>\n        <path id=\"DejaVuSans-30\" d=\"M 2034 4250 \nQ 1547 4250 1301 3770 \nQ 1056 3291 1056 2328 \nQ 1056 1369 1301 889 \nQ 1547 409 2034 409 \nQ 2525 409 2770 889 \nQ 3016 1369 3016 2328 \nQ 3016 3291 2770 3770 \nQ 2525 4250 2034 4250 \nz\nM 2034 4750 \nQ 2819 4750 3233 4129 \nQ 3647 3509 3647 2328 \nQ 3647 1150 3233 529 \nQ 2819 -91 2034 -91 \nQ 1250 -91 836 529 \nQ 422 1150 422 2328 \nQ 422 3509 836 4129 \nQ 1250 4750 2034 4750 \nz\n\" transform=\"scale(0.015625)\"/>\n        <path id=\"DejaVuSans-2e\" d=\"M 684 794 \nL 1344 794 \nL 1344 0 \nL 684 0 \nL 684 794 \nz\n\" transform=\"scale(0.015625)\"/>\n       </defs>\n       <use xlink:href=\"#DejaVuSans-30\"/>\n       <use xlink:href=\"#DejaVuSans-2e\" x=\"63.623047\"/>\n       <use xlink:href=\"#DejaVuSans-30\" x=\"95.410156\"/>\n      </g>\n     </g>\n    </g>\n    <g id=\"xtick_2\">\n     <g id=\"line2d_3\">\n      <path d=\"M 102.996875 86.305743 \nL 102.996875 7.413194 \n\" clip-path=\"url(#pd7de775cee)\" style=\"fill: none; stroke: #b0b0b0; stroke-width: 0.8; stroke-linecap: square\"/>\n     </g>\n     <g id=\"line2d_4\">\n      <g>\n       <use xlink:href=\"#mbf2d463e70\" x=\"102.996875\" y=\"86.305743\" style=\"stroke: #000000; stroke-width: 0.8\"/>\n      </g>\n     </g>\n     <g id=\"text_2\">\n      <!-- 2.5 -->\n      <g transform=\"translate(95.045313 100.90418)scale(0.1 -0.1)\">\n       <defs>\n        <path id=\"DejaVuSans-32\" d=\"M 1228 531 \nL 3431 531 \nL 3431 0 \nL 469 0 \nL 469 531 \nQ 828 903 1448 1529 \nQ 2069 2156 2228 2338 \nQ 2531 2678 2651 2914 \nQ 2772 3150 2772 3378 \nQ 2772 3750 2511 3984 \nQ 2250 4219 1831 4219 \nQ 1534 4219 1204 4116 \nQ 875 4013 500 3803 \nL 500 4441 \nQ 881 4594 1212 4672 \nQ 1544 4750 1819 4750 \nQ 2544 4750 2975 4387 \nQ 3406 4025 3406 3419 \nQ 3406 3131 3298 2873 \nQ 3191 2616 2906 2266 \nQ 2828 2175 2409 1742 \nQ 1991 1309 1228 531 \nz\n\" transform=\"scale(0.015625)\"/>\n        <path id=\"DejaVuSans-35\" d=\"M 691 4666 \nL 3169 4666 \nL 3169 4134 \nL 1269 4134 \nL 1269 2991 \nQ 1406 3038 1543 3061 \nQ 1681 3084 1819 3084 \nQ 2600 3084 3056 2656 \nQ 3513 2228 3513 1497 \nQ 3513 744 3044 326 \nQ 2575 -91 1722 -91 \nQ 1428 -91 1123 -41 \nQ 819 9 494 109 \nL 494 744 \nQ 775 591 1075 516 \nQ 1375 441 1709 441 \nQ 2250 441 2565 725 \nQ 2881 1009 2881 1497 \nQ 2881 1984 2565 2268 \nQ 2250 2553 1709 2553 \nQ 1456 2553 1204 2497 \nQ 953 2441 691 2322 \nL 691 4666 \nz\n\" transform=\"scale(0.015625)\"/>\n       </defs>\n       <use xlink:href=\"#DejaVuSans-32\"/>\n       <use xlink:href=\"#DejaVuSans-2e\" x=\"63.623047\"/>\n       <use xlink:href=\"#DejaVuSans-35\" x=\"95.410156\"/>\n      </g>\n     </g>\n    </g>\n    <g id=\"xtick_3\">\n     <g id=\"line2d_5\">\n      <path d=\"M 150.440625 86.305743 \nL 150.440625 7.413194 \n\" clip-path=\"url(#pd7de775cee)\" style=\"fill: none; stroke: #b0b0b0; stroke-width: 0.8; stroke-linecap: square\"/>\n     </g>\n     <g id=\"line2d_6\">\n      <g>\n       <use xlink:href=\"#mbf2d463e70\" x=\"150.440625\" y=\"86.305743\" style=\"stroke: #000000; stroke-width: 0.8\"/>\n      </g>\n     </g>\n     <g id=\"text_3\">\n      <!-- 5.0 -->\n      <g transform=\"translate(142.489063 100.90418)scale(0.1 -0.1)\">\n       <use xlink:href=\"#DejaVuSans-35\"/>\n       <use xlink:href=\"#DejaVuSans-2e\" x=\"63.623047\"/>\n       <use xlink:href=\"#DejaVuSans-30\" x=\"95.410156\"/>\n      </g>\n     </g>\n    </g>\n    <g id=\"xtick_4\">\n     <g id=\"line2d_7\">\n      <path d=\"M 197.884375 86.305743 \nL 197.884375 7.413194 \n\" clip-path=\"url(#pd7de775cee)\" style=\"fill: none; stroke: #b0b0b0; stroke-width: 0.8; stroke-linecap: square\"/>\n     </g>\n     <g id=\"line2d_8\">\n      <g>\n       <use xlink:href=\"#mbf2d463e70\" x=\"197.884375\" y=\"86.305743\" style=\"stroke: #000000; stroke-width: 0.8\"/>\n      </g>\n     </g>\n     <g id=\"text_4\">\n      <!-- 7.5 -->\n      <g transform=\"translate(189.932812 100.90418)scale(0.1 -0.1)\">\n       <defs>\n        <path id=\"DejaVuSans-37\" d=\"M 525 4666 \nL 3525 4666 \nL 3525 4397 \nL 1831 0 \nL 1172 0 \nL 2766 4134 \nL 525 4134 \nL 525 4666 \nz\n\" transform=\"scale(0.015625)\"/>\n       </defs>\n       <use xlink:href=\"#DejaVuSans-37\"/>\n       <use xlink:href=\"#DejaVuSans-2e\" x=\"63.623047\"/>\n       <use xlink:href=\"#DejaVuSans-35\" x=\"95.410156\"/>\n      </g>\n     </g>\n    </g>\n    <g id=\"xtick_5\">\n     <g id=\"line2d_9\">\n      <path d=\"M 245.328125 86.305743 \nL 245.328125 7.413194 \n\" clip-path=\"url(#pd7de775cee)\" style=\"fill: none; stroke: #b0b0b0; stroke-width: 0.8; stroke-linecap: square\"/>\n     </g>\n     <g id=\"line2d_10\">\n      <g>\n       <use xlink:href=\"#mbf2d463e70\" x=\"245.328125\" y=\"86.305743\" style=\"stroke: #000000; stroke-width: 0.8\"/>\n      </g>\n     </g>\n     <g id=\"text_5\">\n      <!-- 10.0 -->\n      <g transform=\"translate(234.195312 100.90418)scale(0.1 -0.1)\">\n       <defs>\n        <path id=\"DejaVuSans-31\" d=\"M 794 531 \nL 1825 531 \nL 1825 4091 \nL 703 3866 \nL 703 4441 \nL 1819 4666 \nL 2450 4666 \nL 2450 531 \nL 3481 531 \nL 3481 0 \nL 794 0 \nL 794 531 \nz\n\" transform=\"scale(0.015625)\"/>\n       </defs>\n       <use xlink:href=\"#DejaVuSans-31\"/>\n       <use xlink:href=\"#DejaVuSans-30\" x=\"63.623047\"/>\n       <use xlink:href=\"#DejaVuSans-2e\" x=\"127.246094\"/>\n       <use xlink:href=\"#DejaVuSans-30\" x=\"159.033203\"/>\n      </g>\n     </g>\n    </g>\n    <g id=\"xtick_6\">\n     <g id=\"line2d_11\">\n      <path d=\"M 292.771875 86.305743 \nL 292.771875 7.413194 \n\" clip-path=\"url(#pd7de775cee)\" style=\"fill: none; stroke: #b0b0b0; stroke-width: 0.8; stroke-linecap: square\"/>\n     </g>\n     <g id=\"line2d_12\">\n      <g>\n       <use xlink:href=\"#mbf2d463e70\" x=\"292.771875\" y=\"86.305743\" style=\"stroke: #000000; stroke-width: 0.8\"/>\n      </g>\n     </g>\n     <g id=\"text_6\">\n      <!-- 12.5 -->\n      <g transform=\"translate(281.639063 100.90418)scale(0.1 -0.1)\">\n       <use xlink:href=\"#DejaVuSans-31\"/>\n       <use xlink:href=\"#DejaVuSans-32\" x=\"63.623047\"/>\n       <use xlink:href=\"#DejaVuSans-2e\" x=\"127.246094\"/>\n       <use xlink:href=\"#DejaVuSans-35\" x=\"159.033203\"/>\n      </g>\n     </g>\n    </g>\n    <g id=\"xtick_7\">\n     <g id=\"line2d_13\">\n      <path d=\"M 340.215625 86.305743 \nL 340.215625 7.413194 \n\" clip-path=\"url(#pd7de775cee)\" style=\"fill: none; stroke: #b0b0b0; stroke-width: 0.8; stroke-linecap: square\"/>\n     </g>\n     <g id=\"line2d_14\">\n      <g>\n       <use xlink:href=\"#mbf2d463e70\" x=\"340.215625\" y=\"86.305743\" style=\"stroke: #000000; stroke-width: 0.8\"/>\n      </g>\n     </g>\n     <g id=\"text_7\">\n      <!-- 15.0 -->\n      <g transform=\"translate(329.082812 100.90418)scale(0.1 -0.1)\">\n       <use xlink:href=\"#DejaVuSans-31\"/>\n       <use xlink:href=\"#DejaVuSans-35\" x=\"63.623047\"/>\n       <use xlink:href=\"#DejaVuSans-2e\" x=\"127.246094\"/>\n       <use xlink:href=\"#DejaVuSans-30\" x=\"159.033203\"/>\n      </g>\n     </g>\n    </g>\n    <g id=\"xtick_8\">\n     <g id=\"line2d_15\">\n      <path d=\"M 387.659375 86.305743 \nL 387.659375 7.413194 \n\" clip-path=\"url(#pd7de775cee)\" style=\"fill: none; stroke: #b0b0b0; stroke-width: 0.8; stroke-linecap: square\"/>\n     </g>\n     <g id=\"line2d_16\">\n      <g>\n       <use xlink:href=\"#mbf2d463e70\" x=\"387.659375\" y=\"86.305743\" style=\"stroke: #000000; stroke-width: 0.8\"/>\n      </g>\n     </g>\n     <g id=\"text_8\">\n      <!-- 17.5 -->\n      <g transform=\"translate(376.526563 100.90418)scale(0.1 -0.1)\">\n       <use xlink:href=\"#DejaVuSans-31\"/>\n       <use xlink:href=\"#DejaVuSans-37\" x=\"63.623047\"/>\n       <use xlink:href=\"#DejaVuSans-2e\" x=\"127.246094\"/>\n       <use xlink:href=\"#DejaVuSans-35\" x=\"159.033203\"/>\n      </g>\n     </g>\n    </g>\n    <g id=\"xtick_9\">\n     <g id=\"line2d_17\">\n      <path d=\"M 435.103125 86.305743 \nL 435.103125 7.413194 \n\" clip-path=\"url(#pd7de775cee)\" style=\"fill: none; stroke: #b0b0b0; stroke-width: 0.8; stroke-linecap: square\"/>\n     </g>\n     <g id=\"line2d_18\">\n      <g>\n       <use xlink:href=\"#mbf2d463e70\" x=\"435.103125\" y=\"86.305743\" style=\"stroke: #000000; stroke-width: 0.8\"/>\n      </g>\n     </g>\n     <g id=\"text_9\">\n      <!-- 20.0 -->\n      <g transform=\"translate(423.970312 100.90418)scale(0.1 -0.1)\">\n       <use xlink:href=\"#DejaVuSans-32\"/>\n       <use xlink:href=\"#DejaVuSans-30\" x=\"63.623047\"/>\n       <use xlink:href=\"#DejaVuSans-2e\" x=\"127.246094\"/>\n       <use xlink:href=\"#DejaVuSans-30\" x=\"159.033203\"/>\n      </g>\n     </g>\n    </g>\n   </g>\n   <g id=\"matplotlib.axis_2\">\n    <g id=\"ytick_1\">\n     <g id=\"line2d_19\">\n      <path d=\"M 55.553125 82.719718 \nL 435.103125 82.719718 \n\" clip-path=\"url(#pd7de775cee)\" style=\"fill: none; stroke: #b0b0b0; stroke-width: 0.8; stroke-linecap: square\"/>\n     </g>\n     <g id=\"line2d_20\">\n      <defs>\n       <path id=\"mde8e2d9560\" d=\"M 0 0 \nL -3.5 0 \n\" style=\"stroke: #000000; stroke-width: 0.8\"/>\n      </defs>\n      <g>\n       <use xlink:href=\"#mde8e2d9560\" x=\"55.553125\" y=\"82.719718\" style=\"stroke: #000000; stroke-width: 0.8\"/>\n      </g>\n     </g>\n     <g id=\"text_10\">\n      <!-- 1.00 -->\n      <g transform=\"translate(26.2875 86.518937)scale(0.1 -0.1)\">\n       <use xlink:href=\"#DejaVuSans-31\"/>\n       <use xlink:href=\"#DejaVuSans-2e\" x=\"63.623047\"/>\n       <use xlink:href=\"#DejaVuSans-30\" x=\"95.410156\"/>\n       <use xlink:href=\"#DejaVuSans-30\" x=\"159.033203\"/>\n      </g>\n     </g>\n    </g>\n    <g id=\"ytick_2\">\n     <g id=\"line2d_21\">\n      <path d=\"M 55.553125 46.859468 \nL 435.103125 46.859468 \n\" clip-path=\"url(#pd7de775cee)\" style=\"fill: none; stroke: #b0b0b0; stroke-width: 0.8; stroke-linecap: square\"/>\n     </g>\n     <g id=\"line2d_22\">\n      <g>\n       <use xlink:href=\"#mde8e2d9560\" x=\"55.553125\" y=\"46.859468\" style=\"stroke: #000000; stroke-width: 0.8\"/>\n      </g>\n     </g>\n     <g id=\"text_11\">\n      <!-- 1.02 -->\n      <g transform=\"translate(26.2875 50.658687)scale(0.1 -0.1)\">\n       <use xlink:href=\"#DejaVuSans-31\"/>\n       <use xlink:href=\"#DejaVuSans-2e\" x=\"63.623047\"/>\n       <use xlink:href=\"#DejaVuSans-30\" x=\"95.410156\"/>\n       <use xlink:href=\"#DejaVuSans-32\" x=\"159.033203\"/>\n      </g>\n     </g>\n    </g>\n    <g id=\"ytick_3\">\n     <g id=\"line2d_23\">\n      <path d=\"M 55.553125 10.999219 \nL 435.103125 10.999219 \n\" clip-path=\"url(#pd7de775cee)\" style=\"fill: none; stroke: #b0b0b0; stroke-width: 0.8; stroke-linecap: square\"/>\n     </g>\n     <g id=\"line2d_24\">\n      <g>\n       <use xlink:href=\"#mde8e2d9560\" x=\"55.553125\" y=\"10.999219\" style=\"stroke: #000000; stroke-width: 0.8\"/>\n      </g>\n     </g>\n     <g id=\"text_12\">\n      <!-- 1.04 -->\n      <g transform=\"translate(26.2875 14.798438)scale(0.1 -0.1)\">\n       <defs>\n        <path id=\"DejaVuSans-34\" d=\"M 2419 4116 \nL 825 1625 \nL 2419 1625 \nL 2419 4116 \nz\nM 2253 4666 \nL 3047 4666 \nL 3047 1625 \nL 3713 1625 \nL 3713 1100 \nL 3047 1100 \nL 3047 0 \nL 2419 0 \nL 2419 1100 \nL 313 1100 \nL 313 1709 \nL 2253 4666 \nz\n\" transform=\"scale(0.015625)\"/>\n       </defs>\n       <use xlink:href=\"#DejaVuSans-31\"/>\n       <use xlink:href=\"#DejaVuSans-2e\" x=\"63.623047\"/>\n       <use xlink:href=\"#DejaVuSans-30\" x=\"95.410156\"/>\n       <use xlink:href=\"#DejaVuSans-34\" x=\"159.033203\"/>\n      </g>\n     </g>\n    </g>\n   </g>\n   <g id=\"line2d_25\">\n    <path d=\"M 55.553125 82.719718 \nL 74.530625 82.719718 \nL 74.7204 10.999219 \nL 435.103125 10.999219 \nL 435.103125 10.999219 \n\" clip-path=\"url(#pd7de775cee)\" style=\"fill: none; stroke: #1f77b4; stroke-width: 1.5; stroke-linecap: square\"/>\n   </g>\n   <g id=\"line2d_26\">\n    <path d=\"M 55.553125 82.719718 \nL 74.7204 82.637052 \nL 77.37725 80.457675 \nL 79.085225 79.370837 \nL 80.982975 78.4698 \nL 83.8296 77.17033 \nL 85.3478 76.203643 \nL 87.055775 74.84021 \nL 91.80015 70.873014 \nL 94.267225 69.261772 \nL 96.924075 67.500179 \nL 98.821825 65.965478 \nL 101.858225 63.141809 \nL 104.70485 60.61407 \nL 107.931025 58.112192 \nL 110.77765 55.815487 \nL 113.81405 53.036832 \nL 117.799325 49.433173 \nL 121.7846 46.22102 \nL 125.95965 42.734787 \nL 130.704025 38.783591 \nL 134.499525 35.967127 \nL 143.41895 29.672319 \nL 147.024675 27.474458 \nL 152.717925 24.295863 \nL 156.7032 22.296967 \nL 160.4987 20.648027 \nL 165.43285 18.757663 \nL 169.6079 17.37786 \nL 173.78295 16.237457 \nL 178.7171 15.119892 \nL 183.461475 14.267191 \nL 188.5854 13.589123 \nL 194.27865 13.057235 \nL 200.161675 12.739486 \nL 207.18335 12.592631 \nL 214.77435 12.662201 \nL 224.452875 12.980196 \nL 238.30645 13.690774 \nL 277.969425 15.846309 \nL 295.808275 16.526218 \nL 314.596 17.013914 \nL 336.23035 17.345506 \nL 364.886375 17.54664 \nL 423.716625 17.676297 \nL 435.103125 17.698575 \nL 435.103125 17.698575 \n\" clip-path=\"url(#pd7de775cee)\" style=\"fill: none; stroke: #ff7f0e; stroke-width: 1.5; stroke-linecap: square\"/>\n   </g>\n   <g id=\"patch_3\">\n    <path d=\"M 55.553125 86.305743 \nL 55.553125 7.413194 \n\" style=\"fill: none; stroke: #000000; stroke-width: 0.8; stroke-linejoin: miter; stroke-linecap: square\"/>\n   </g>\n   <g id=\"patch_4\">\n    <path d=\"M 435.103125 86.305743 \nL 435.103125 7.413194 \n\" style=\"fill: none; stroke: #000000; stroke-width: 0.8; stroke-linejoin: miter; stroke-linecap: square\"/>\n   </g>\n   <g id=\"patch_5\">\n    <path d=\"M 55.553125 86.305743 \nL 435.103125 86.305743 \n\" style=\"fill: none; stroke: #000000; stroke-width: 0.8; stroke-linejoin: miter; stroke-linecap: square\"/>\n   </g>\n   <g id=\"patch_6\">\n    <path d=\"M 55.553125 7.413194 \nL 435.103125 7.413194 \n\" style=\"fill: none; stroke: #000000; stroke-width: 0.8; stroke-linejoin: miter; stroke-linecap: square\"/>\n   </g>\n   <g id=\"legend_1\">\n    <g id=\"patch_7\">\n     <path d=\"M 360.2625 81.305743 \nL 428.103125 81.305743 \nQ 430.103125 81.305743 430.103125 79.305743 \nL 430.103125 50.393243 \nQ 430.103125 48.393243 428.103125 48.393243 \nL 360.2625 48.393243 \nQ 358.2625 48.393243 358.2625 50.393243 \nL 358.2625 79.305743 \nQ 358.2625 81.305743 360.2625 81.305743 \nz\n\" style=\"fill: #ffffff; opacity: 0.8; stroke: #cccccc; stroke-linejoin: miter\"/>\n    </g>\n    <g id=\"line2d_27\">\n     <path d=\"M 362.2625 56.49168 \nL 372.2625 56.49168 \nL 382.2625 56.49168 \n\" style=\"fill: none; stroke: #1f77b4; stroke-width: 1.5; stroke-linecap: square\"/>\n    </g>\n    <g id=\"text_13\">\n     <!-- v_ref_1 -->\n     <g transform=\"translate(390.2625 59.99168)scale(0.1 -0.1)\">\n      <defs>\n       <path id=\"DejaVuSans-76\" d=\"M 191 3500 \nL 800 3500 \nL 1894 563 \nL 2988 3500 \nL 3597 3500 \nL 2284 0 \nL 1503 0 \nL 191 3500 \nz\n\" transform=\"scale(0.015625)\"/>\n       <path id=\"DejaVuSans-5f\" d=\"M 3263 -1063 \nL 3263 -1509 \nL -63 -1509 \nL -63 -1063 \nL 3263 -1063 \nz\n\" transform=\"scale(0.015625)\"/>\n       <path id=\"DejaVuSans-72\" d=\"M 2631 2963 \nQ 2534 3019 2420 3045 \nQ 2306 3072 2169 3072 \nQ 1681 3072 1420 2755 \nQ 1159 2438 1159 1844 \nL 1159 0 \nL 581 0 \nL 581 3500 \nL 1159 3500 \nL 1159 2956 \nQ 1341 3275 1631 3429 \nQ 1922 3584 2338 3584 \nQ 2397 3584 2469 3576 \nQ 2541 3569 2628 3553 \nL 2631 2963 \nz\n\" transform=\"scale(0.015625)\"/>\n       <path id=\"DejaVuSans-65\" d=\"M 3597 1894 \nL 3597 1613 \nL 953 1613 \nQ 991 1019 1311 708 \nQ 1631 397 2203 397 \nQ 2534 397 2845 478 \nQ 3156 559 3463 722 \nL 3463 178 \nQ 3153 47 2828 -22 \nQ 2503 -91 2169 -91 \nQ 1331 -91 842 396 \nQ 353 884 353 1716 \nQ 353 2575 817 3079 \nQ 1281 3584 2069 3584 \nQ 2775 3584 3186 3129 \nQ 3597 2675 3597 1894 \nz\nM 3022 2063 \nQ 3016 2534 2758 2815 \nQ 2500 3097 2075 3097 \nQ 1594 3097 1305 2825 \nQ 1016 2553 972 2059 \nL 3022 2063 \nz\n\" transform=\"scale(0.015625)\"/>\n       <path id=\"DejaVuSans-66\" d=\"M 2375 4863 \nL 2375 4384 \nL 1825 4384 \nQ 1516 4384 1395 4259 \nQ 1275 4134 1275 3809 \nL 1275 3500 \nL 2222 3500 \nL 2222 3053 \nL 1275 3053 \nL 1275 0 \nL 697 0 \nL 697 3053 \nL 147 3053 \nL 147 3500 \nL 697 3500 \nL 697 3744 \nQ 697 4328 969 4595 \nQ 1241 4863 1831 4863 \nL 2375 4863 \nz\n\" transform=\"scale(0.015625)\"/>\n      </defs>\n      <use xlink:href=\"#DejaVuSans-76\"/>\n      <use xlink:href=\"#DejaVuSans-5f\" x=\"59.179688\"/>\n      <use xlink:href=\"#DejaVuSans-72\" x=\"109.179688\"/>\n      <use xlink:href=\"#DejaVuSans-65\" x=\"148.042969\"/>\n      <use xlink:href=\"#DejaVuSans-66\" x=\"209.566406\"/>\n      <use xlink:href=\"#DejaVuSans-5f\" x=\"244.771484\"/>\n      <use xlink:href=\"#DejaVuSans-31\" x=\"294.771484\"/>\n     </g>\n    </g>\n    <g id=\"line2d_28\">\n     <path d=\"M 362.2625 71.44793 \nL 372.2625 71.44793 \nL 382.2625 71.44793 \n\" style=\"fill: none; stroke: #ff7f0e; stroke-width: 1.5; stroke-linecap: square\"/>\n    </g>\n    <g id=\"text_14\">\n     <!-- V_1 -->\n     <g transform=\"translate(390.2625 74.94793)scale(0.1 -0.1)\">\n      <defs>\n       <path id=\"DejaVuSans-56\" d=\"M 1831 0 \nL 50 4666 \nL 709 4666 \nL 2188 738 \nL 3669 4666 \nL 4325 4666 \nL 2547 0 \nL 1831 0 \nz\n\" transform=\"scale(0.015625)\"/>\n      </defs>\n      <use xlink:href=\"#DejaVuSans-56\"/>\n      <use xlink:href=\"#DejaVuSans-5f\" x=\"68.408203\"/>\n      <use xlink:href=\"#DejaVuSans-31\" x=\"118.408203\"/>\n     </g>\n    </g>\n   </g>\n  </g>\n  <g id=\"axes_2\">\n   <g id=\"patch_8\">\n    <path d=\"M 55.553125 193.078292 \nL 435.103125 193.078292 \nL 435.103125 114.185743 \nL 55.553125 114.185743 \nz\n\" style=\"fill: #ffffff\"/>\n   </g>\n   <g id=\"matplotlib.axis_3\">\n    <g id=\"xtick_10\">\n     <g id=\"line2d_29\">\n      <path d=\"M 55.553125 193.078292 \nL 55.553125 114.185743 \n\" clip-path=\"url(#pb6ec4ed235)\" style=\"fill: none; stroke: #b0b0b0; stroke-width: 0.8; stroke-linecap: square\"/>\n     </g>\n     <g id=\"line2d_30\">\n      <g>\n       <use xlink:href=\"#mbf2d463e70\" x=\"55.553125\" y=\"193.078292\" style=\"stroke: #000000; stroke-width: 0.8\"/>\n      </g>\n     </g>\n     <g id=\"text_15\">\n      <!-- 0.0 -->\n      <g transform=\"translate(47.601563 207.676729)scale(0.1 -0.1)\">\n       <use xlink:href=\"#DejaVuSans-30\"/>\n       <use xlink:href=\"#DejaVuSans-2e\" x=\"63.623047\"/>\n       <use xlink:href=\"#DejaVuSans-30\" x=\"95.410156\"/>\n      </g>\n     </g>\n    </g>\n    <g id=\"xtick_11\">\n     <g id=\"line2d_31\">\n      <path d=\"M 102.996875 193.078292 \nL 102.996875 114.185743 \n\" clip-path=\"url(#pb6ec4ed235)\" style=\"fill: none; stroke: #b0b0b0; stroke-width: 0.8; stroke-linecap: square\"/>\n     </g>\n     <g id=\"line2d_32\">\n      <g>\n       <use xlink:href=\"#mbf2d463e70\" x=\"102.996875\" y=\"193.078292\" style=\"stroke: #000000; stroke-width: 0.8\"/>\n      </g>\n     </g>\n     <g id=\"text_16\">\n      <!-- 2.5 -->\n      <g transform=\"translate(95.045313 207.676729)scale(0.1 -0.1)\">\n       <use xlink:href=\"#DejaVuSans-32\"/>\n       <use xlink:href=\"#DejaVuSans-2e\" x=\"63.623047\"/>\n       <use xlink:href=\"#DejaVuSans-35\" x=\"95.410156\"/>\n      </g>\n     </g>\n    </g>\n    <g id=\"xtick_12\">\n     <g id=\"line2d_33\">\n      <path d=\"M 150.440625 193.078292 \nL 150.440625 114.185743 \n\" clip-path=\"url(#pb6ec4ed235)\" style=\"fill: none; stroke: #b0b0b0; stroke-width: 0.8; stroke-linecap: square\"/>\n     </g>\n     <g id=\"line2d_34\">\n      <g>\n       <use xlink:href=\"#mbf2d463e70\" x=\"150.440625\" y=\"193.078292\" style=\"stroke: #000000; stroke-width: 0.8\"/>\n      </g>\n     </g>\n     <g id=\"text_17\">\n      <!-- 5.0 -->\n      <g transform=\"translate(142.489063 207.676729)scale(0.1 -0.1)\">\n       <use xlink:href=\"#DejaVuSans-35\"/>\n       <use xlink:href=\"#DejaVuSans-2e\" x=\"63.623047\"/>\n       <use xlink:href=\"#DejaVuSans-30\" x=\"95.410156\"/>\n      </g>\n     </g>\n    </g>\n    <g id=\"xtick_13\">\n     <g id=\"line2d_35\">\n      <path d=\"M 197.884375 193.078292 \nL 197.884375 114.185743 \n\" clip-path=\"url(#pb6ec4ed235)\" style=\"fill: none; stroke: #b0b0b0; stroke-width: 0.8; stroke-linecap: square\"/>\n     </g>\n     <g id=\"line2d_36\">\n      <g>\n       <use xlink:href=\"#mbf2d463e70\" x=\"197.884375\" y=\"193.078292\" style=\"stroke: #000000; stroke-width: 0.8\"/>\n      </g>\n     </g>\n     <g id=\"text_18\">\n      <!-- 7.5 -->\n      <g transform=\"translate(189.932812 207.676729)scale(0.1 -0.1)\">\n       <use xlink:href=\"#DejaVuSans-37\"/>\n       <use xlink:href=\"#DejaVuSans-2e\" x=\"63.623047\"/>\n       <use xlink:href=\"#DejaVuSans-35\" x=\"95.410156\"/>\n      </g>\n     </g>\n    </g>\n    <g id=\"xtick_14\">\n     <g id=\"line2d_37\">\n      <path d=\"M 245.328125 193.078292 \nL 245.328125 114.185743 \n\" clip-path=\"url(#pb6ec4ed235)\" style=\"fill: none; stroke: #b0b0b0; stroke-width: 0.8; stroke-linecap: square\"/>\n     </g>\n     <g id=\"line2d_38\">\n      <g>\n       <use xlink:href=\"#mbf2d463e70\" x=\"245.328125\" y=\"193.078292\" style=\"stroke: #000000; stroke-width: 0.8\"/>\n      </g>\n     </g>\n     <g id=\"text_19\">\n      <!-- 10.0 -->\n      <g transform=\"translate(234.195312 207.676729)scale(0.1 -0.1)\">\n       <use xlink:href=\"#DejaVuSans-31\"/>\n       <use xlink:href=\"#DejaVuSans-30\" x=\"63.623047\"/>\n       <use xlink:href=\"#DejaVuSans-2e\" x=\"127.246094\"/>\n       <use xlink:href=\"#DejaVuSans-30\" x=\"159.033203\"/>\n      </g>\n     </g>\n    </g>\n    <g id=\"xtick_15\">\n     <g id=\"line2d_39\">\n      <path d=\"M 292.771875 193.078292 \nL 292.771875 114.185743 \n\" clip-path=\"url(#pb6ec4ed235)\" style=\"fill: none; stroke: #b0b0b0; stroke-width: 0.8; stroke-linecap: square\"/>\n     </g>\n     <g id=\"line2d_40\">\n      <g>\n       <use xlink:href=\"#mbf2d463e70\" x=\"292.771875\" y=\"193.078292\" style=\"stroke: #000000; stroke-width: 0.8\"/>\n      </g>\n     </g>\n     <g id=\"text_20\">\n      <!-- 12.5 -->\n      <g transform=\"translate(281.639063 207.676729)scale(0.1 -0.1)\">\n       <use xlink:href=\"#DejaVuSans-31\"/>\n       <use xlink:href=\"#DejaVuSans-32\" x=\"63.623047\"/>\n       <use xlink:href=\"#DejaVuSans-2e\" x=\"127.246094\"/>\n       <use xlink:href=\"#DejaVuSans-35\" x=\"159.033203\"/>\n      </g>\n     </g>\n    </g>\n    <g id=\"xtick_16\">\n     <g id=\"line2d_41\">\n      <path d=\"M 340.215625 193.078292 \nL 340.215625 114.185743 \n\" clip-path=\"url(#pb6ec4ed235)\" style=\"fill: none; stroke: #b0b0b0; stroke-width: 0.8; stroke-linecap: square\"/>\n     </g>\n     <g id=\"line2d_42\">\n      <g>\n       <use xlink:href=\"#mbf2d463e70\" x=\"340.215625\" y=\"193.078292\" style=\"stroke: #000000; stroke-width: 0.8\"/>\n      </g>\n     </g>\n     <g id=\"text_21\">\n      <!-- 15.0 -->\n      <g transform=\"translate(329.082812 207.676729)scale(0.1 -0.1)\">\n       <use xlink:href=\"#DejaVuSans-31\"/>\n       <use xlink:href=\"#DejaVuSans-35\" x=\"63.623047\"/>\n       <use xlink:href=\"#DejaVuSans-2e\" x=\"127.246094\"/>\n       <use xlink:href=\"#DejaVuSans-30\" x=\"159.033203\"/>\n      </g>\n     </g>\n    </g>\n    <g id=\"xtick_17\">\n     <g id=\"line2d_43\">\n      <path d=\"M 387.659375 193.078292 \nL 387.659375 114.185743 \n\" clip-path=\"url(#pb6ec4ed235)\" style=\"fill: none; stroke: #b0b0b0; stroke-width: 0.8; stroke-linecap: square\"/>\n     </g>\n     <g id=\"line2d_44\">\n      <g>\n       <use xlink:href=\"#mbf2d463e70\" x=\"387.659375\" y=\"193.078292\" style=\"stroke: #000000; stroke-width: 0.8\"/>\n      </g>\n     </g>\n     <g id=\"text_22\">\n      <!-- 17.5 -->\n      <g transform=\"translate(376.526563 207.676729)scale(0.1 -0.1)\">\n       <use xlink:href=\"#DejaVuSans-31\"/>\n       <use xlink:href=\"#DejaVuSans-37\" x=\"63.623047\"/>\n       <use xlink:href=\"#DejaVuSans-2e\" x=\"127.246094\"/>\n       <use xlink:href=\"#DejaVuSans-35\" x=\"159.033203\"/>\n      </g>\n     </g>\n    </g>\n    <g id=\"xtick_18\">\n     <g id=\"line2d_45\">\n      <path d=\"M 435.103125 193.078292 \nL 435.103125 114.185743 \n\" clip-path=\"url(#pb6ec4ed235)\" style=\"fill: none; stroke: #b0b0b0; stroke-width: 0.8; stroke-linecap: square\"/>\n     </g>\n     <g id=\"line2d_46\">\n      <g>\n       <use xlink:href=\"#mbf2d463e70\" x=\"435.103125\" y=\"193.078292\" style=\"stroke: #000000; stroke-width: 0.8\"/>\n      </g>\n     </g>\n     <g id=\"text_23\">\n      <!-- 20.0 -->\n      <g transform=\"translate(423.970312 207.676729)scale(0.1 -0.1)\">\n       <use xlink:href=\"#DejaVuSans-32\"/>\n       <use xlink:href=\"#DejaVuSans-30\" x=\"63.623047\"/>\n       <use xlink:href=\"#DejaVuSans-2e\" x=\"127.246094\"/>\n       <use xlink:href=\"#DejaVuSans-30\" x=\"159.033203\"/>\n      </g>\n     </g>\n    </g>\n   </g>\n   <g id=\"matplotlib.axis_4\">\n    <g id=\"ytick_4\">\n     <g id=\"line2d_47\">\n      <path d=\"M 55.553125 178.960571 \nL 435.103125 178.960571 \n\" clip-path=\"url(#pb6ec4ed235)\" style=\"fill: none; stroke: #b0b0b0; stroke-width: 0.8; stroke-linecap: square\"/>\n     </g>\n     <g id=\"line2d_48\">\n      <g>\n       <use xlink:href=\"#mde8e2d9560\" x=\"55.553125\" y=\"178.960571\" style=\"stroke: #000000; stroke-width: 0.8\"/>\n      </g>\n     </g>\n     <g id=\"text_24\">\n      <!-- 0.0 -->\n      <g transform=\"translate(32.65 182.75979)scale(0.1 -0.1)\">\n       <use xlink:href=\"#DejaVuSans-30\"/>\n       <use xlink:href=\"#DejaVuSans-2e\" x=\"63.623047\"/>\n       <use xlink:href=\"#DejaVuSans-30\" x=\"95.410156\"/>\n      </g>\n     </g>\n    </g>\n    <g id=\"ytick_5\">\n     <g id=\"line2d_49\">\n      <path d=\"M 55.553125 141.735928 \nL 435.103125 141.735928 \n\" clip-path=\"url(#pb6ec4ed235)\" style=\"fill: none; stroke: #b0b0b0; stroke-width: 0.8; stroke-linecap: square\"/>\n     </g>\n     <g id=\"line2d_50\">\n      <g>\n       <use xlink:href=\"#mde8e2d9560\" x=\"55.553125\" y=\"141.735928\" style=\"stroke: #000000; stroke-width: 0.8\"/>\n      </g>\n     </g>\n     <g id=\"text_25\">\n      <!-- 0.5 -->\n      <g transform=\"translate(32.65 145.535147)scale(0.1 -0.1)\">\n       <use xlink:href=\"#DejaVuSans-30\"/>\n       <use xlink:href=\"#DejaVuSans-2e\" x=\"63.623047\"/>\n       <use xlink:href=\"#DejaVuSans-35\" x=\"95.410156\"/>\n      </g>\n     </g>\n    </g>\n   </g>\n   <g id=\"line2d_51\">\n    <path d=\"M 55.553125 119.884809 \nL 74.7204 119.78724 \nL 76.048825 118.541095 \nL 76.9977 117.963782 \nL 77.7568 117.777327 \nL 78.5159 117.851436 \nL 79.275 118.162019 \nL 80.223875 118.796135 \nL 82.880725 120.723749 \nL 83.639825 120.991503 \nL 84.398925 121.054852 \nL 85.158025 120.915083 \nL 86.1069 120.499481 \nL 87.814875 119.403291 \nL 89.1433 118.644522 \nL 90.092175 118.334573 \nL 91.04105 118.278136 \nL 91.989925 118.46781 \nL 93.128575 118.93612 \nL 95.785425 120.14048 \nL 96.924075 120.339938 \nL 97.87295 120.288478 \nL 99.0116 120.00033 \nL 103.18665 118.665412 \nL 104.3253 118.679526 \nL 105.653725 118.939419 \nL 109.449225 119.889364 \nL 110.77765 119.897913 \nL 112.29585 119.666633 \nL 115.901575 118.983252 \nL 117.419775 118.985713 \nL 119.317525 119.246984 \nL 122.353925 119.697166 \nL 124.0619 119.709223 \nL 126.528975 119.455134 \nL 129.185825 119.230259 \nL 131.27335 119.297064 \nL 137.156375 119.689972 \nL 145.506475 119.573083 \nL 150.061075 119.754055 \nL 160.87825 119.812188 \nL 165.622625 119.830723 \nL 171.8852 119.870499 \nL 179.286425 119.934671 \nL 190.293375 120.015896 \nL 398.286775 120.089022 \nL 435.103125 120.087914 \nL 435.103125 120.087914 \n\" clip-path=\"url(#pb6ec4ed235)\" style=\"fill: none; stroke: #1f77b4; stroke-width: 1.5; stroke-linecap: square\"/>\n   </g>\n   <g id=\"line2d_52\">\n    <path d=\"M 55.553125 189.492267 \nL 74.7204 189.439694 \nL 81.17275 185.978735 \nL 86.1069 183.546547 \nL 88.953525 181.784344 \nL 94.646775 178.186583 \nL 98.63205 175.700045 \nL 102.048 173.243566 \nL 107.3617 169.430309 \nL 112.6754 165.652808 \nL 121.594825 159.058552 \nL 134.6893 149.985687 \nL 141.90075 145.5397 \nL 146.0758 143.209721 \nL 151.00995 140.732169 \nL 155.754325 138.575811 \nL 159.929375 136.91622 \nL 164.67375 135.277983 \nL 169.418125 133.871482 \nL 173.972725 132.756456 \nL 179.09665 131.738089 \nL 184.220575 130.944957 \nL 189.72405 130.326762 \nL 195.79685 129.87152 \nL 202.2492 129.615341 \nL 209.8402 129.542122 \nL 218.759625 129.692551 \nL 230.146125 130.117016 \nL 250.641825 131.145562 \nL 275.312575 132.311244 \nL 294.290075 132.976789 \nL 314.026675 133.442303 \nL 336.98945 133.754007 \nL 368.11255 133.936423 \nL 435.103125 134.060096 \nL 435.103125 134.060096 \n\" clip-path=\"url(#pb6ec4ed235)\" style=\"fill: none; stroke: #ff7f0e; stroke-width: 1.5; stroke-linecap: square\"/>\n   </g>\n   <g id=\"patch_9\">\n    <path d=\"M 55.553125 193.078292 \nL 55.553125 114.185743 \n\" style=\"fill: none; stroke: #000000; stroke-width: 0.8; stroke-linejoin: miter; stroke-linecap: square\"/>\n   </g>\n   <g id=\"patch_10\">\n    <path d=\"M 435.103125 193.078292 \nL 435.103125 114.185743 \n\" style=\"fill: none; stroke: #000000; stroke-width: 0.8; stroke-linejoin: miter; stroke-linecap: square\"/>\n   </g>\n   <g id=\"patch_11\">\n    <path d=\"M 55.553125 193.078292 \nL 435.103125 193.078292 \n\" style=\"fill: none; stroke: #000000; stroke-width: 0.8; stroke-linejoin: miter; stroke-linecap: square\"/>\n   </g>\n   <g id=\"patch_12\">\n    <path d=\"M 55.553125 114.185743 \nL 435.103125 114.185743 \n\" style=\"fill: none; stroke: #000000; stroke-width: 0.8; stroke-linejoin: miter; stroke-linecap: square\"/>\n   </g>\n   <g id=\"legend_2\">\n    <g id=\"patch_13\">\n     <path d=\"M 367.04375 188.078292 \nL 428.103125 188.078292 \nQ 430.103125 188.078292 430.103125 186.078292 \nL 430.103125 157.165792 \nQ 430.103125 155.165792 428.103125 155.165792 \nL 367.04375 155.165792 \nQ 365.04375 155.165792 365.04375 157.165792 \nL 365.04375 186.078292 \nQ 365.04375 188.078292 367.04375 188.078292 \nz\n\" style=\"fill: #ffffff; opacity: 0.8; stroke: #cccccc; stroke-linejoin: miter\"/>\n    </g>\n    <g id=\"line2d_53\">\n     <path d=\"M 369.04375 163.264229 \nL 379.04375 163.264229 \nL 389.04375 163.264229 \n\" style=\"fill: none; stroke: #1f77b4; stroke-width: 1.5; stroke-linecap: square\"/>\n    </g>\n    <g id=\"text_26\">\n     <!-- p_g_1 -->\n     <g transform=\"translate(397.04375 166.764229)scale(0.1 -0.1)\">\n      <defs>\n       <path id=\"DejaVuSans-70\" d=\"M 1159 525 \nL 1159 -1331 \nL 581 -1331 \nL 581 3500 \nL 1159 3500 \nL 1159 2969 \nQ 1341 3281 1617 3432 \nQ 1894 3584 2278 3584 \nQ 2916 3584 3314 3078 \nQ 3713 2572 3713 1747 \nQ 3713 922 3314 415 \nQ 2916 -91 2278 -91 \nQ 1894 -91 1617 61 \nQ 1341 213 1159 525 \nz\nM 3116 1747 \nQ 3116 2381 2855 2742 \nQ 2594 3103 2138 3103 \nQ 1681 3103 1420 2742 \nQ 1159 2381 1159 1747 \nQ 1159 1113 1420 752 \nQ 1681 391 2138 391 \nQ 2594 391 2855 752 \nQ 3116 1113 3116 1747 \nz\n\" transform=\"scale(0.015625)\"/>\n       <path id=\"DejaVuSans-67\" d=\"M 2906 1791 \nQ 2906 2416 2648 2759 \nQ 2391 3103 1925 3103 \nQ 1463 3103 1205 2759 \nQ 947 2416 947 1791 \nQ 947 1169 1205 825 \nQ 1463 481 1925 481 \nQ 2391 481 2648 825 \nQ 2906 1169 2906 1791 \nz\nM 3481 434 \nQ 3481 -459 3084 -895 \nQ 2688 -1331 1869 -1331 \nQ 1566 -1331 1297 -1286 \nQ 1028 -1241 775 -1147 \nL 775 -588 \nQ 1028 -725 1275 -790 \nQ 1522 -856 1778 -856 \nQ 2344 -856 2625 -561 \nQ 2906 -266 2906 331 \nL 2906 616 \nQ 2728 306 2450 153 \nQ 2172 0 1784 0 \nQ 1141 0 747 490 \nQ 353 981 353 1791 \nQ 353 2603 747 3093 \nQ 1141 3584 1784 3584 \nQ 2172 3584 2450 3431 \nQ 2728 3278 2906 2969 \nL 2906 3500 \nL 3481 3500 \nL 3481 434 \nz\n\" transform=\"scale(0.015625)\"/>\n      </defs>\n      <use xlink:href=\"#DejaVuSans-70\"/>\n      <use xlink:href=\"#DejaVuSans-5f\" x=\"63.476562\"/>\n      <use xlink:href=\"#DejaVuSans-67\" x=\"113.476562\"/>\n      <use xlink:href=\"#DejaVuSans-5f\" x=\"176.953125\"/>\n      <use xlink:href=\"#DejaVuSans-31\" x=\"226.953125\"/>\n     </g>\n    </g>\n    <g id=\"line2d_54\">\n     <path d=\"M 369.04375 178.220479 \nL 379.04375 178.220479 \nL 389.04375 178.220479 \n\" style=\"fill: none; stroke: #ff7f0e; stroke-width: 1.5; stroke-linecap: square\"/>\n    </g>\n    <g id=\"text_27\">\n     <!-- q_g_1 -->\n     <g transform=\"translate(397.04375 181.720479)scale(0.1 -0.1)\">\n      <defs>\n       <path id=\"DejaVuSans-71\" d=\"M 947 1747 \nQ 947 1113 1208 752 \nQ 1469 391 1925 391 \nQ 2381 391 2643 752 \nQ 2906 1113 2906 1747 \nQ 2906 2381 2643 2742 \nQ 2381 3103 1925 3103 \nQ 1469 3103 1208 2742 \nQ 947 2381 947 1747 \nz\nM 2906 525 \nQ 2725 213 2448 61 \nQ 2172 -91 1784 -91 \nQ 1150 -91 751 415 \nQ 353 922 353 1747 \nQ 353 2572 751 3078 \nQ 1150 3584 1784 3584 \nQ 2172 3584 2448 3432 \nQ 2725 3281 2906 2969 \nL 2906 3500 \nL 3481 3500 \nL 3481 -1331 \nL 2906 -1331 \nL 2906 525 \nz\n\" transform=\"scale(0.015625)\"/>\n      </defs>\n      <use xlink:href=\"#DejaVuSans-71\"/>\n      <use xlink:href=\"#DejaVuSans-5f\" x=\"63.476562\"/>\n      <use xlink:href=\"#DejaVuSans-67\" x=\"113.476562\"/>\n      <use xlink:href=\"#DejaVuSans-5f\" x=\"176.953125\"/>\n      <use xlink:href=\"#DejaVuSans-31\" x=\"226.953125\"/>\n     </g>\n    </g>\n   </g>\n  </g>\n  <g id=\"axes_3\">\n   <g id=\"patch_14\">\n    <path d=\"M 55.553125 299.850841 \nL 435.103125 299.850841 \nL 435.103125 220.958292 \nL 55.553125 220.958292 \nz\n\" style=\"fill: #ffffff\"/>\n   </g>\n   <g id=\"matplotlib.axis_5\">\n    <g id=\"xtick_19\">\n     <g id=\"line2d_55\">\n      <path d=\"M 55.553125 299.850841 \nL 55.553125 220.958292 \n\" clip-path=\"url(#pcf9cac2551)\" style=\"fill: none; stroke: #b0b0b0; stroke-width: 0.8; stroke-linecap: square\"/>\n     </g>\n     <g id=\"line2d_56\">\n      <g>\n       <use xlink:href=\"#mbf2d463e70\" x=\"55.553125\" y=\"299.850841\" style=\"stroke: #000000; stroke-width: 0.8\"/>\n      </g>\n     </g>\n     <g id=\"text_28\">\n      <!-- 0.0 -->\n      <g transform=\"translate(47.601563 314.449278)scale(0.1 -0.1)\">\n       <use xlink:href=\"#DejaVuSans-30\"/>\n       <use xlink:href=\"#DejaVuSans-2e\" x=\"63.623047\"/>\n       <use xlink:href=\"#DejaVuSans-30\" x=\"95.410156\"/>\n      </g>\n     </g>\n    </g>\n    <g id=\"xtick_20\">\n     <g id=\"line2d_57\">\n      <path d=\"M 102.996875 299.850841 \nL 102.996875 220.958292 \n\" clip-path=\"url(#pcf9cac2551)\" style=\"fill: none; stroke: #b0b0b0; stroke-width: 0.8; stroke-linecap: square\"/>\n     </g>\n     <g id=\"line2d_58\">\n      <g>\n       <use xlink:href=\"#mbf2d463e70\" x=\"102.996875\" y=\"299.850841\" style=\"stroke: #000000; stroke-width: 0.8\"/>\n      </g>\n     </g>\n     <g id=\"text_29\">\n      <!-- 2.5 -->\n      <g transform=\"translate(95.045313 314.449278)scale(0.1 -0.1)\">\n       <use xlink:href=\"#DejaVuSans-32\"/>\n       <use xlink:href=\"#DejaVuSans-2e\" x=\"63.623047\"/>\n       <use xlink:href=\"#DejaVuSans-35\" x=\"95.410156\"/>\n      </g>\n     </g>\n    </g>\n    <g id=\"xtick_21\">\n     <g id=\"line2d_59\">\n      <path d=\"M 150.440625 299.850841 \nL 150.440625 220.958292 \n\" clip-path=\"url(#pcf9cac2551)\" style=\"fill: none; stroke: #b0b0b0; stroke-width: 0.8; stroke-linecap: square\"/>\n     </g>\n     <g id=\"line2d_60\">\n      <g>\n       <use xlink:href=\"#mbf2d463e70\" x=\"150.440625\" y=\"299.850841\" style=\"stroke: #000000; stroke-width: 0.8\"/>\n      </g>\n     </g>\n     <g id=\"text_30\">\n      <!-- 5.0 -->\n      <g transform=\"translate(142.489063 314.449278)scale(0.1 -0.1)\">\n       <use xlink:href=\"#DejaVuSans-35\"/>\n       <use xlink:href=\"#DejaVuSans-2e\" x=\"63.623047\"/>\n       <use xlink:href=\"#DejaVuSans-30\" x=\"95.410156\"/>\n      </g>\n     </g>\n    </g>\n    <g id=\"xtick_22\">\n     <g id=\"line2d_61\">\n      <path d=\"M 197.884375 299.850841 \nL 197.884375 220.958292 \n\" clip-path=\"url(#pcf9cac2551)\" style=\"fill: none; stroke: #b0b0b0; stroke-width: 0.8; stroke-linecap: square\"/>\n     </g>\n     <g id=\"line2d_62\">\n      <g>\n       <use xlink:href=\"#mbf2d463e70\" x=\"197.884375\" y=\"299.850841\" style=\"stroke: #000000; stroke-width: 0.8\"/>\n      </g>\n     </g>\n     <g id=\"text_31\">\n      <!-- 7.5 -->\n      <g transform=\"translate(189.932812 314.449278)scale(0.1 -0.1)\">\n       <use xlink:href=\"#DejaVuSans-37\"/>\n       <use xlink:href=\"#DejaVuSans-2e\" x=\"63.623047\"/>\n       <use xlink:href=\"#DejaVuSans-35\" x=\"95.410156\"/>\n      </g>\n     </g>\n    </g>\n    <g id=\"xtick_23\">\n     <g id=\"line2d_63\">\n      <path d=\"M 245.328125 299.850841 \nL 245.328125 220.958292 \n\" clip-path=\"url(#pcf9cac2551)\" style=\"fill: none; stroke: #b0b0b0; stroke-width: 0.8; stroke-linecap: square\"/>\n     </g>\n     <g id=\"line2d_64\">\n      <g>\n       <use xlink:href=\"#mbf2d463e70\" x=\"245.328125\" y=\"299.850841\" style=\"stroke: #000000; stroke-width: 0.8\"/>\n      </g>\n     </g>\n     <g id=\"text_32\">\n      <!-- 10.0 -->\n      <g transform=\"translate(234.195312 314.449278)scale(0.1 -0.1)\">\n       <use xlink:href=\"#DejaVuSans-31\"/>\n       <use xlink:href=\"#DejaVuSans-30\" x=\"63.623047\"/>\n       <use xlink:href=\"#DejaVuSans-2e\" x=\"127.246094\"/>\n       <use xlink:href=\"#DejaVuSans-30\" x=\"159.033203\"/>\n      </g>\n     </g>\n    </g>\n    <g id=\"xtick_24\">\n     <g id=\"line2d_65\">\n      <path d=\"M 292.771875 299.850841 \nL 292.771875 220.958292 \n\" clip-path=\"url(#pcf9cac2551)\" style=\"fill: none; stroke: #b0b0b0; stroke-width: 0.8; stroke-linecap: square\"/>\n     </g>\n     <g id=\"line2d_66\">\n      <g>\n       <use xlink:href=\"#mbf2d463e70\" x=\"292.771875\" y=\"299.850841\" style=\"stroke: #000000; stroke-width: 0.8\"/>\n      </g>\n     </g>\n     <g id=\"text_33\">\n      <!-- 12.5 -->\n      <g transform=\"translate(281.639063 314.449278)scale(0.1 -0.1)\">\n       <use xlink:href=\"#DejaVuSans-31\"/>\n       <use xlink:href=\"#DejaVuSans-32\" x=\"63.623047\"/>\n       <use xlink:href=\"#DejaVuSans-2e\" x=\"127.246094\"/>\n       <use xlink:href=\"#DejaVuSans-35\" x=\"159.033203\"/>\n      </g>\n     </g>\n    </g>\n    <g id=\"xtick_25\">\n     <g id=\"line2d_67\">\n      <path d=\"M 340.215625 299.850841 \nL 340.215625 220.958292 \n\" clip-path=\"url(#pcf9cac2551)\" style=\"fill: none; stroke: #b0b0b0; stroke-width: 0.8; stroke-linecap: square\"/>\n     </g>\n     <g id=\"line2d_68\">\n      <g>\n       <use xlink:href=\"#mbf2d463e70\" x=\"340.215625\" y=\"299.850841\" style=\"stroke: #000000; stroke-width: 0.8\"/>\n      </g>\n     </g>\n     <g id=\"text_34\">\n      <!-- 15.0 -->\n      <g transform=\"translate(329.082812 314.449278)scale(0.1 -0.1)\">\n       <use xlink:href=\"#DejaVuSans-31\"/>\n       <use xlink:href=\"#DejaVuSans-35\" x=\"63.623047\"/>\n       <use xlink:href=\"#DejaVuSans-2e\" x=\"127.246094\"/>\n       <use xlink:href=\"#DejaVuSans-30\" x=\"159.033203\"/>\n      </g>\n     </g>\n    </g>\n    <g id=\"xtick_26\">\n     <g id=\"line2d_69\">\n      <path d=\"M 387.659375 299.850841 \nL 387.659375 220.958292 \n\" clip-path=\"url(#pcf9cac2551)\" style=\"fill: none; stroke: #b0b0b0; stroke-width: 0.8; stroke-linecap: square\"/>\n     </g>\n     <g id=\"line2d_70\">\n      <g>\n       <use xlink:href=\"#mbf2d463e70\" x=\"387.659375\" y=\"299.850841\" style=\"stroke: #000000; stroke-width: 0.8\"/>\n      </g>\n     </g>\n     <g id=\"text_35\">\n      <!-- 17.5 -->\n      <g transform=\"translate(376.526563 314.449278)scale(0.1 -0.1)\">\n       <use xlink:href=\"#DejaVuSans-31\"/>\n       <use xlink:href=\"#DejaVuSans-37\" x=\"63.623047\"/>\n       <use xlink:href=\"#DejaVuSans-2e\" x=\"127.246094\"/>\n       <use xlink:href=\"#DejaVuSans-35\" x=\"159.033203\"/>\n      </g>\n     </g>\n    </g>\n    <g id=\"xtick_27\">\n     <g id=\"line2d_71\">\n      <path d=\"M 435.103125 299.850841 \nL 435.103125 220.958292 \n\" clip-path=\"url(#pcf9cac2551)\" style=\"fill: none; stroke: #b0b0b0; stroke-width: 0.8; stroke-linecap: square\"/>\n     </g>\n     <g id=\"line2d_72\">\n      <g>\n       <use xlink:href=\"#mbf2d463e70\" x=\"435.103125\" y=\"299.850841\" style=\"stroke: #000000; stroke-width: 0.8\"/>\n      </g>\n     </g>\n     <g id=\"text_36\">\n      <!-- 20.0 -->\n      <g transform=\"translate(423.970312 314.449278)scale(0.1 -0.1)\">\n       <use xlink:href=\"#DejaVuSans-32\"/>\n       <use xlink:href=\"#DejaVuSans-30\" x=\"63.623047\"/>\n       <use xlink:href=\"#DejaVuSans-2e\" x=\"127.246094\"/>\n       <use xlink:href=\"#DejaVuSans-30\" x=\"159.033203\"/>\n      </g>\n     </g>\n    </g>\n    <g id=\"text_37\">\n     <!-- Time (s) -->\n     <g transform=\"translate(224.999219 328.127403)scale(0.1 -0.1)\">\n      <defs>\n       <path id=\"DejaVuSans-54\" d=\"M -19 4666 \nL 3928 4666 \nL 3928 4134 \nL 2272 4134 \nL 2272 0 \nL 1638 0 \nL 1638 4134 \nL -19 4134 \nL -19 4666 \nz\n\" transform=\"scale(0.015625)\"/>\n       <path id=\"DejaVuSans-69\" d=\"M 603 3500 \nL 1178 3500 \nL 1178 0 \nL 603 0 \nL 603 3500 \nz\nM 603 4863 \nL 1178 4863 \nL 1178 4134 \nL 603 4134 \nL 603 4863 \nz\n\" transform=\"scale(0.015625)\"/>\n       <path id=\"DejaVuSans-6d\" d=\"M 3328 2828 \nQ 3544 3216 3844 3400 \nQ 4144 3584 4550 3584 \nQ 5097 3584 5394 3201 \nQ 5691 2819 5691 2113 \nL 5691 0 \nL 5113 0 \nL 5113 2094 \nQ 5113 2597 4934 2840 \nQ 4756 3084 4391 3084 \nQ 3944 3084 3684 2787 \nQ 3425 2491 3425 1978 \nL 3425 0 \nL 2847 0 \nL 2847 2094 \nQ 2847 2600 2669 2842 \nQ 2491 3084 2119 3084 \nQ 1678 3084 1418 2786 \nQ 1159 2488 1159 1978 \nL 1159 0 \nL 581 0 \nL 581 3500 \nL 1159 3500 \nL 1159 2956 \nQ 1356 3278 1631 3431 \nQ 1906 3584 2284 3584 \nQ 2666 3584 2933 3390 \nQ 3200 3197 3328 2828 \nz\n\" transform=\"scale(0.015625)\"/>\n       <path id=\"DejaVuSans-20\" transform=\"scale(0.015625)\"/>\n       <path id=\"DejaVuSans-28\" d=\"M 1984 4856 \nQ 1566 4138 1362 3434 \nQ 1159 2731 1159 2009 \nQ 1159 1288 1364 580 \nQ 1569 -128 1984 -844 \nL 1484 -844 \nQ 1016 -109 783 600 \nQ 550 1309 550 2009 \nQ 550 2706 781 3412 \nQ 1013 4119 1484 4856 \nL 1984 4856 \nz\n\" transform=\"scale(0.015625)\"/>\n       <path id=\"DejaVuSans-73\" d=\"M 2834 3397 \nL 2834 2853 \nQ 2591 2978 2328 3040 \nQ 2066 3103 1784 3103 \nQ 1356 3103 1142 2972 \nQ 928 2841 928 2578 \nQ 928 2378 1081 2264 \nQ 1234 2150 1697 2047 \nL 1894 2003 \nQ 2506 1872 2764 1633 \nQ 3022 1394 3022 966 \nQ 3022 478 2636 193 \nQ 2250 -91 1575 -91 \nQ 1294 -91 989 -36 \nQ 684 19 347 128 \nL 347 722 \nQ 666 556 975 473 \nQ 1284 391 1588 391 \nQ 1994 391 2212 530 \nQ 2431 669 2431 922 \nQ 2431 1156 2273 1281 \nQ 2116 1406 1581 1522 \nL 1381 1569 \nQ 847 1681 609 1914 \nQ 372 2147 372 2553 \nQ 372 3047 722 3315 \nQ 1072 3584 1716 3584 \nQ 2034 3584 2315 3537 \nQ 2597 3491 2834 3397 \nz\n\" transform=\"scale(0.015625)\"/>\n       <path id=\"DejaVuSans-29\" d=\"M 513 4856 \nL 1013 4856 \nQ 1481 4119 1714 3412 \nQ 1947 2706 1947 2009 \nQ 1947 1309 1714 600 \nQ 1481 -109 1013 -844 \nL 513 -844 \nQ 928 -128 1133 580 \nQ 1338 1288 1338 2009 \nQ 1338 2731 1133 3434 \nQ 928 4138 513 4856 \nz\n\" transform=\"scale(0.015625)\"/>\n      </defs>\n      <use xlink:href=\"#DejaVuSans-54\"/>\n      <use xlink:href=\"#DejaVuSans-69\" x=\"57.958984\"/>\n      <use xlink:href=\"#DejaVuSans-6d\" x=\"85.742188\"/>\n      <use xlink:href=\"#DejaVuSans-65\" x=\"183.154297\"/>\n      <use xlink:href=\"#DejaVuSans-20\" x=\"244.677734\"/>\n      <use xlink:href=\"#DejaVuSans-28\" x=\"276.464844\"/>\n      <use xlink:href=\"#DejaVuSans-73\" x=\"315.478516\"/>\n      <use xlink:href=\"#DejaVuSans-29\" x=\"367.578125\"/>\n     </g>\n    </g>\n   </g>\n   <g id=\"matplotlib.axis_6\">\n    <g id=\"ytick_6\">\n     <g id=\"line2d_73\">\n      <path d=\"M 55.553125 282.17376 \nL 435.103125 282.17376 \n\" clip-path=\"url(#pcf9cac2551)\" style=\"fill: none; stroke: #b0b0b0; stroke-width: 0.8; stroke-linecap: square\"/>\n     </g>\n     <g id=\"line2d_74\">\n      <g>\n       <use xlink:href=\"#mde8e2d9560\" x=\"55.553125\" y=\"282.17376\" style=\"stroke: #000000; stroke-width: 0.8\"/>\n      </g>\n     </g>\n     <g id=\"text_38\">\n      <!-- 0.99950 -->\n      <g transform=\"translate(7.2 285.972979)scale(0.1 -0.1)\">\n       <defs>\n        <path id=\"DejaVuSans-39\" d=\"M 703 97 \nL 703 672 \nQ 941 559 1184 500 \nQ 1428 441 1663 441 \nQ 2288 441 2617 861 \nQ 2947 1281 2994 2138 \nQ 2813 1869 2534 1725 \nQ 2256 1581 1919 1581 \nQ 1219 1581 811 2004 \nQ 403 2428 403 3163 \nQ 403 3881 828 4315 \nQ 1253 4750 1959 4750 \nQ 2769 4750 3195 4129 \nQ 3622 3509 3622 2328 \nQ 3622 1225 3098 567 \nQ 2575 -91 1691 -91 \nQ 1453 -91 1209 -44 \nQ 966 3 703 97 \nz\nM 1959 2075 \nQ 2384 2075 2632 2365 \nQ 2881 2656 2881 3163 \nQ 2881 3666 2632 3958 \nQ 2384 4250 1959 4250 \nQ 1534 4250 1286 3958 \nQ 1038 3666 1038 3163 \nQ 1038 2656 1286 2365 \nQ 1534 2075 1959 2075 \nz\n\" transform=\"scale(0.015625)\"/>\n       </defs>\n       <use xlink:href=\"#DejaVuSans-30\"/>\n       <use xlink:href=\"#DejaVuSans-2e\" x=\"63.623047\"/>\n       <use xlink:href=\"#DejaVuSans-39\" x=\"95.410156\"/>\n       <use xlink:href=\"#DejaVuSans-39\" x=\"159.033203\"/>\n       <use xlink:href=\"#DejaVuSans-39\" x=\"222.65625\"/>\n       <use xlink:href=\"#DejaVuSans-35\" x=\"286.279297\"/>\n       <use xlink:href=\"#DejaVuSans-30\" x=\"349.902344\"/>\n      </g>\n     </g>\n    </g>\n    <g id=\"ytick_7\">\n     <g id=\"line2d_75\">\n      <path d=\"M 55.553125 254.248241 \nL 435.103125 254.248241 \n\" clip-path=\"url(#pcf9cac2551)\" style=\"fill: none; stroke: #b0b0b0; stroke-width: 0.8; stroke-linecap: square\"/>\n     </g>\n     <g id=\"line2d_76\">\n      <g>\n       <use xlink:href=\"#mde8e2d9560\" x=\"55.553125\" y=\"254.248241\" style=\"stroke: #000000; stroke-width: 0.8\"/>\n      </g>\n     </g>\n     <g id=\"text_39\">\n      <!-- 0.99975 -->\n      <g transform=\"translate(7.2 258.047459)scale(0.1 -0.1)\">\n       <use xlink:href=\"#DejaVuSans-30\"/>\n       <use xlink:href=\"#DejaVuSans-2e\" x=\"63.623047\"/>\n       <use xlink:href=\"#DejaVuSans-39\" x=\"95.410156\"/>\n       <use xlink:href=\"#DejaVuSans-39\" x=\"159.033203\"/>\n       <use xlink:href=\"#DejaVuSans-39\" x=\"222.65625\"/>\n       <use xlink:href=\"#DejaVuSans-37\" x=\"286.279297\"/>\n       <use xlink:href=\"#DejaVuSans-35\" x=\"349.902344\"/>\n      </g>\n     </g>\n    </g>\n    <g id=\"ytick_8\">\n     <g id=\"line2d_77\">\n      <path d=\"M 55.553125 226.322722 \nL 435.103125 226.322722 \n\" clip-path=\"url(#pcf9cac2551)\" style=\"fill: none; stroke: #b0b0b0; stroke-width: 0.8; stroke-linecap: square\"/>\n     </g>\n     <g id=\"line2d_78\">\n      <g>\n       <use xlink:href=\"#mde8e2d9560\" x=\"55.553125\" y=\"226.322722\" style=\"stroke: #000000; stroke-width: 0.8\"/>\n      </g>\n     </g>\n     <g id=\"text_40\">\n      <!-- 1.00000 -->\n      <g transform=\"translate(7.2 230.12194)scale(0.1 -0.1)\">\n       <use xlink:href=\"#DejaVuSans-31\"/>\n       <use xlink:href=\"#DejaVuSans-2e\" x=\"63.623047\"/>\n       <use xlink:href=\"#DejaVuSans-30\" x=\"95.410156\"/>\n       <use xlink:href=\"#DejaVuSans-30\" x=\"159.033203\"/>\n       <use xlink:href=\"#DejaVuSans-30\" x=\"222.65625\"/>\n       <use xlink:href=\"#DejaVuSans-30\" x=\"286.279297\"/>\n       <use xlink:href=\"#DejaVuSans-30\" x=\"349.902344\"/>\n      </g>\n     </g>\n    </g>\n   </g>\n   <g id=\"line2d_79\">\n    <path d=\"M 55.553125 226.322722 \nL 74.7204 226.396894 \nL 74.910175 226.692844 \nL 75.289725 228.157923 \nL 75.669275 230.73543 \nL 76.2386 236.46776 \nL 76.9977 246.838276 \nL 79.65455 286.857164 \nL 80.223875 292.131334 \nL 80.7932 295.308164 \nL 81.17275 296.192989 \nL 81.362525 296.264816 \nL 81.5523 296.094245 \nL 81.93185 295.052018 \nL 82.3114 293.137333 \nL 82.880725 288.851658 \nL 83.639825 281.186516 \nL 85.917125 256.612518 \nL 86.48645 252.683096 \nL 87.055775 250.33267 \nL 87.435325 249.71673 \nL 87.6251 249.699328 \nL 87.814875 249.874057 \nL 88.194425 250.785371 \nL 88.573975 252.406118 \nL 89.1433 256.013729 \nL 89.9024 262.515051 \nL 92.55925 287.130483 \nL 93.128575 290.246789 \nL 93.508125 291.592576 \nL 93.887675 292.320246 \nL 94.07745 292.450264 \nL 94.267225 292.425987 \nL 94.646775 291.927003 \nL 95.026325 290.860271 \nL 95.59565 288.319969 \nL 96.35475 283.579524 \nL 99.0116 265.237081 \nL 99.580925 262.912887 \nL 99.960475 261.916959 \nL 100.340025 261.389796 \nL 100.719575 261.335157 \nL 101.099125 261.740705 \nL 101.478675 262.578879 \nL 102.048 264.553324 \nL 102.8071 268.218084 \nL 105.46395 282.279435 \nL 106.033275 284.016883 \nL 106.412825 284.738374 \nL 106.792375 285.089831 \nL 107.171925 285.067927 \nL 107.551475 284.681767 \nL 107.931025 283.952171 \nL 108.50035 282.285215 \nL 109.25945 279.226915 \nL 112.106075 266.501417 \nL 112.6754 264.980171 \nL 113.244725 264.056321 \nL 113.624275 263.785002 \nL 114.003825 263.784484 \nL 114.383375 264.040527 \nL 114.9527 264.854676 \nL 115.7118 266.57258 \nL 118.558425 274.011625 \nL 119.12775 274.723664 \nL 119.5073 274.945222 \nL 119.88685 274.954244 \nL 120.2664 274.750226 \nL 120.835725 274.060687 \nL 121.40505 272.956494 \nL 122.16415 270.973954 \nL 123.872125 265.577899 \nL 125.010775 262.398838 \nL 125.769875 260.871226 \nL 126.3392 260.116409 \nL 126.908525 259.710569 \nL 127.47785 259.637803 \nL 128.047175 259.858486 \nL 128.806275 260.504613 \nL 130.324475 262.312926 \nL 131.27335 263.241513 \nL 131.842675 263.561262 \nL 132.412 263.647053 \nL 132.981325 263.4752 \nL 133.55065 263.04196 \nL 134.30975 262.086927 \nL 135.258625 260.410539 \nL 138.674575 253.788532 \nL 139.433675 252.923783 \nL 140.192775 252.40041 \nL 140.951875 252.192762 \nL 141.710975 252.236905 \nL 142.849625 252.57113 \nL 144.17805 252.945194 \nL 144.93715 252.968962 \nL 145.69625 252.774998 \nL 146.45535 252.337169 \nL 147.404225 251.461155 \nL 148.542875 250.040311 \nL 151.579275 246.034276 \nL 152.52815 245.18898 \nL 153.477025 244.633969 \nL 154.4259 244.337264 \nL 155.754325 244.201109 \nL 157.652075 244.041883 \nL 158.790725 243.697506 \nL 159.929375 243.075569 \nL 161.2578 242.039207 \nL 165.0533 238.802852 \nL 166.19195 238.180928 \nL 167.520375 237.724584 \nL 169.418125 237.366642 \nL 171.315875 236.961058 \nL 172.834075 236.394583 \nL 174.54205 235.492415 \nL 178.147775 233.504172 \nL 179.665975 232.954049 \nL 181.563725 232.523867 \nL 185.359225 231.746858 \nL 187.636525 230.984744 \nL 191.432025 229.677895 \nL 193.51955 229.222522 \nL 202.2492 227.643934 \nL 205.2856 227.077921 \nL 208.70155 226.704142 \nL 214.01525 226.109917 \nL 218.759625 225.589477 \nL 225.40175 225.204953 \nL 233.562075 224.788015 \nL 248.744075 224.545633 \nL 266.7727 224.67615 \nL 285.939975 225.041826 \nL 324.654075 225.783152 \nL 353.120325 226.099628 \nL 387.4696 226.248559 \nL 435.103125 226.255962 \nL 435.103125 226.255962 \n\" clip-path=\"url(#pcf9cac2551)\" style=\"fill: none; stroke: #1f77b4; stroke-width: 1.5; stroke-linecap: square\"/>\n   </g>\n   <g id=\"patch_15\">\n    <path d=\"M 55.553125 299.850841 \nL 55.553125 220.958292 \n\" style=\"fill: none; stroke: #000000; stroke-width: 0.8; stroke-linejoin: miter; stroke-linecap: square\"/>\n   </g>\n   <g id=\"patch_16\">\n    <path d=\"M 435.103125 299.850841 \nL 435.103125 220.958292 \n\" style=\"fill: none; stroke: #000000; stroke-width: 0.8; stroke-linejoin: miter; stroke-linecap: square\"/>\n   </g>\n   <g id=\"patch_17\">\n    <path d=\"M 55.553125 299.850841 \nL 435.103125 299.850841 \n\" style=\"fill: none; stroke: #000000; stroke-width: 0.8; stroke-linejoin: miter; stroke-linecap: square\"/>\n   </g>\n   <g id=\"patch_18\">\n    <path d=\"M 55.553125 220.958292 \nL 435.103125 220.958292 \n\" style=\"fill: none; stroke: #000000; stroke-width: 0.8; stroke-linejoin: miter; stroke-linecap: square\"/>\n   </g>\n   <g id=\"legend_3\">\n    <g id=\"patch_19\">\n     <path d=\"M 350.251562 294.850841 \nL 428.103125 294.850841 \nQ 430.103125 294.850841 430.103125 292.850841 \nL 430.103125 278.894591 \nQ 430.103125 276.894591 428.103125 276.894591 \nL 350.251562 276.894591 \nQ 348.251562 276.894591 348.251562 278.894591 \nL 348.251562 292.850841 \nQ 348.251562 294.850841 350.251562 294.850841 \nz\n\" style=\"fill: #ffffff; opacity: 0.8; stroke: #cccccc; stroke-linejoin: miter\"/>\n    </g>\n    <g id=\"line2d_80\">\n     <path d=\"M 352.251562 284.993028 \nL 362.251562 284.993028 \nL 372.251562 284.993028 \n\" style=\"fill: none; stroke: #1f77b4; stroke-width: 1.5; stroke-linecap: square\"/>\n    </g>\n    <g id=\"text_41\">\n     <!-- omega_1 -->\n     <g transform=\"translate(380.251562 288.493028)scale(0.1 -0.1)\">\n      <defs>\n       <path id=\"DejaVuSans-6f\" d=\"M 1959 3097 \nQ 1497 3097 1228 2736 \nQ 959 2375 959 1747 \nQ 959 1119 1226 758 \nQ 1494 397 1959 397 \nQ 2419 397 2687 759 \nQ 2956 1122 2956 1747 \nQ 2956 2369 2687 2733 \nQ 2419 3097 1959 3097 \nz\nM 1959 3584 \nQ 2709 3584 3137 3096 \nQ 3566 2609 3566 1747 \nQ 3566 888 3137 398 \nQ 2709 -91 1959 -91 \nQ 1206 -91 779 398 \nQ 353 888 353 1747 \nQ 353 2609 779 3096 \nQ 1206 3584 1959 3584 \nz\n\" transform=\"scale(0.015625)\"/>\n       <path id=\"DejaVuSans-61\" d=\"M 2194 1759 \nQ 1497 1759 1228 1600 \nQ 959 1441 959 1056 \nQ 959 750 1161 570 \nQ 1363 391 1709 391 \nQ 2188 391 2477 730 \nQ 2766 1069 2766 1631 \nL 2766 1759 \nL 2194 1759 \nz\nM 3341 1997 \nL 3341 0 \nL 2766 0 \nL 2766 531 \nQ 2569 213 2275 61 \nQ 1981 -91 1556 -91 \nQ 1019 -91 701 211 \nQ 384 513 384 1019 \nQ 384 1609 779 1909 \nQ 1175 2209 1959 2209 \nL 2766 2209 \nL 2766 2266 \nQ 2766 2663 2505 2880 \nQ 2244 3097 1772 3097 \nQ 1472 3097 1187 3025 \nQ 903 2953 641 2809 \nL 641 3341 \nQ 956 3463 1253 3523 \nQ 1550 3584 1831 3584 \nQ 2591 3584 2966 3190 \nQ 3341 2797 3341 1997 \nz\n\" transform=\"scale(0.015625)\"/>\n      </defs>\n      <use xlink:href=\"#DejaVuSans-6f\"/>\n      <use xlink:href=\"#DejaVuSans-6d\" x=\"61.181641\"/>\n      <use xlink:href=\"#DejaVuSans-65\" x=\"158.59375\"/>\n      <use xlink:href=\"#DejaVuSans-67\" x=\"220.117188\"/>\n      <use xlink:href=\"#DejaVuSans-61\" x=\"283.59375\"/>\n      <use xlink:href=\"#DejaVuSans-5f\" x=\"344.873047\"/>\n      <use xlink:href=\"#DejaVuSans-31\" x=\"394.873047\"/>\n     </g>\n    </g>\n   </g>\n  </g>\n </g>\n <defs>\n  <clipPath id=\"pd7de775cee\">\n   <rect x=\"55.553125\" y=\"7.413194\" width=\"379.55\" height=\"78.892549\"/>\n  </clipPath>\n  <clipPath id=\"pb6ec4ed235\">\n   <rect x=\"55.553125\" y=\"114.185743\" width=\"379.55\" height=\"78.892549\"/>\n  </clipPath>\n  <clipPath id=\"pcf9cac2551\">\n   <rect x=\"55.553125\" y=\"220.958292\" width=\"379.55\" height=\"78.892549\"/>\n  </clipPath>\n </defs>\n</svg>\n",
      "text/plain": [
       "<Figure size 640x480 with 3 Axes>"
      ]
     },
     "metadata": {},
     "output_type": "display_data"
    }
   ],
   "source": [
    "model = smib.model()\n",
    "model.Dt = 0.01\n",
    "model.decimation = 1\n",
    "model.ini({'v_ref_1':1.0, 'K_a_1':200.0},'xy_0.json')\n",
    "model.run( 1.0,{})\n",
    "model.run(30.0,{'v_ref_1':1.04})\n",
    "model.post();\n",
    "\n",
    "fig,axes = plt.subplots(nrows=3)\n",
    "\n",
    "axes[0].plot(model.Time,  model.get_values('v_ref_1'),label='v_ref_1')\n",
    "axes[0].plot(model.Time,  model.get_values('V_1'),label='V_1')\n",
    "\n",
    "axes[1].plot(model.Time,  model.get_values('p_g_1'),label='p_g_1')\n",
    "axes[1].plot(model.Time,  model.get_values('q_g_1'),label='q_g_1')\n",
    "\n",
    "axes[2].plot(model.Time,  model.get_values('omega_1'),label='omega_1')\n",
    "\n",
    "for ax in axes:\n",
    "    ax.legend()\n",
    "    ax.grid()\n",
    "    ax.set_xlim([0,20])\n",
    "ax.set_xlabel('Time (s)')\n",
    "fig.tight_layout()"
   ]
  }
 ],
 "metadata": {
  "jupytext": {
   "formats": "ipynb,md:myst"
  },
  "kernelspec": {
   "display_name": "base",
   "language": "python",
   "name": "python3"
  },
  "language_info": {
   "codemirror_mode": {
    "name": "ipython",
    "version": 3
   },
   "file_extension": ".py",
   "mimetype": "text/x-python",
   "name": "python",
   "nbconvert_exporter": "python",
   "pygments_lexer": "ipython3",
   "version": "3.9.13"
  },
  "vscode": {
   "interpreter": {
    "hash": "1b1fd1016f48c91706a48f1be322d44ea1680db2bb213f1ce174a5eccfd1e534"
   }
  }
 },
 "nbformat": 4,
 "nbformat_minor": 4
}
