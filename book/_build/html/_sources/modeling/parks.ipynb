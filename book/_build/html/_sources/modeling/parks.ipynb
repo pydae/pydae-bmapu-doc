{
 "cells": [
  {
   "cell_type": "markdown",
   "id": "eb32cd8d",
   "metadata": {},
   "source": [
    "### Park transform"
   ]
  },
  {
   "cell_type": "code",
   "execution_count": 1,
   "id": "f7a1a2a1",
   "metadata": {},
   "outputs": [],
   "source": [
    "import sympy as sym\n",
    "import numpy as np"
   ]
  },
  {
   "cell_type": "markdown",
   "id": "3d6147e9",
   "metadata": {},
   "source": [
    "#### Phasor definition"
   ]
  },
  {
   "cell_type": "code",
   "execution_count": 2,
   "id": "12e72f35",
   "metadata": {},
   "outputs": [
    {
     "name": "stdout",
     "output_type": "stream",
     "text": [
      "X_m = 1.000, X_a = 0.200\n"
     ]
    }
   ],
   "source": [
    "X_m =  1.0  # phasor module\n",
    "X_a =  0.2  # phasor angle \n",
    "\n",
    "X = X_m*np.exp(1j*X_a)\n",
    "\n",
    "print(f'X_m = {X_m:0.3f}, X_a = {X_a:0.3f}')"
   ]
  },
  {
   "cell_type": "markdown",
   "id": "c66e620e",
   "metadata": {},
   "source": [
    "#### Phasor to generic DQ"
   ]
  },
  {
   "cell_type": "code",
   "execution_count": 3,
   "id": "a9d4beed",
   "metadata": {},
   "outputs": [
    {
     "name": "stdout",
     "output_type": "stream",
     "text": [
      "D = 0.199, Q = 0.980\n"
     ]
    }
   ],
   "source": [
    "r = X.real   # X_m*cos(X_a)\n",
    "i = X.imag   # X_m*sin(X_a)\n",
    "\n",
    "D = i\n",
    "Q = r\n",
    "\n",
    "print(f'D = {D:0.3f}, Q = {Q:0.3f}')"
   ]
  },
  {
   "cell_type": "markdown",
   "id": "8bff1ce8",
   "metadata": {},
   "source": [
    "### Park transform DQ to dq with angle $\\delta$"
   ]
  },
  {
   "cell_type": "code",
   "execution_count": 4,
   "id": "7500768e",
   "metadata": {},
   "outputs": [
    {
     "name": "stdout",
     "output_type": "stream",
     "text": [
      "d = 0.100, q = 0.995\n"
     ]
    }
   ],
   "source": [
    "delta = 0.1\n",
    "\n",
    "d = D * np.cos(delta) - Q * np.sin(delta)   \n",
    "q = D * np.sin(delta) + Q * np.cos(delta)\n",
    "\n",
    "print(f'd = {d:0.3f}, q = {q:0.3f}')"
   ]
  },
  {
   "cell_type": "markdown",
   "id": "fb771c98",
   "metadata": {},
   "source": [
    "#### Inverse Park transform dq to DQ with angle $\\delta$"
   ]
  },
  {
   "cell_type": "code",
   "execution_count": 5,
   "id": "83da8541",
   "metadata": {},
   "outputs": [
    {
     "name": "stdout",
     "output_type": "stream",
     "text": [
      "D = 0.199, Q = 0.980\n"
     ]
    }
   ],
   "source": [
    "D =  d * np.cos(delta) + q * np.sin(delta)   \n",
    "Q = -d * np.sin(delta) + q * np.cos(delta) \n",
    "\n",
    "print(f'D = {D:0.3f}, Q = {Q:0.3f}')"
   ]
  },
  {
   "cell_type": "markdown",
   "id": "ddaf0629",
   "metadata": {},
   "source": [
    "#### From DQ to phasor"
   ]
  },
  {
   "cell_type": "code",
   "execution_count": 6,
   "id": "14618bd5",
   "metadata": {},
   "outputs": [
    {
     "name": "stdout",
     "output_type": "stream",
     "text": [
      "r = 0.980, i = 0.199\n",
      "P_m = 1.000, P_a = 0.200\n"
     ]
    }
   ],
   "source": [
    "i = D\n",
    "r = Q\n",
    "print(f'r = {r:0.3f}, i = {i:0.3f}')\n",
    "\n",
    "P_m = np.sqrt(r**2 + i**2)\n",
    "P_a = np.arctan2(i,r)\n",
    "print(f'P_m = {P_m:0.3f}, P_a = {P_a:0.3f}')"
   ]
  },
  {
   "cell_type": "code",
   "execution_count": null,
   "id": "d1ffe8da",
   "metadata": {},
   "outputs": [],
   "source": []
  },
  {
   "cell_type": "code",
   "execution_count": 7,
   "id": "2245ec17",
   "metadata": {},
   "outputs": [],
   "source": [
    "re,im = sym.symbols('d,q', real = True)\n",
    "D,Q = sym.symbols('D,Q', real = True)\n",
    "delta = sym.Symbol('delta', real = True)"
   ]
  },
  {
   "cell_type": "code",
   "execution_count": null,
   "id": "01b4a96f",
   "metadata": {},
   "outputs": [],
   "source": []
  },
  {
   "cell_type": "code",
   "execution_count": null,
   "id": "6a3a3df2",
   "metadata": {},
   "outputs": [],
   "source": []
  },
  {
   "cell_type": "markdown",
   "id": "455ffd15",
   "metadata": {},
   "source": [
    "### Park from milano\n",
    "\n",
    "$$\n",
    "d = X_m \\sin\\left(\\delta - X_a\\right)  \\\\\n",
    "q = X_m \\cos\\left(\\delta - X_a\\right)\n",
    "$$"
   ]
  },
  {
   "cell_type": "code",
   "execution_count": 8,
   "id": "9681831c",
   "metadata": {},
   "outputs": [
    {
     "ename": "TypeError",
     "evalue": "loop of ufunc does not support argument 0 of type Add which has no callable sin method",
     "output_type": "error",
     "traceback": [
      "\u001b[1;31m---------------------------------------------------------------------------\u001b[0m",
      "\u001b[1;31mAttributeError\u001b[0m                            Traceback (most recent call last)",
      "\u001b[1;31mAttributeError\u001b[0m: 'Add' object has no attribute 'sin'",
      "\nThe above exception was the direct cause of the following exception:\n",
      "\u001b[1;31mTypeError\u001b[0m                                 Traceback (most recent call last)",
      "\u001b[1;32m~\\AppData\\Local\\Temp/ipykernel_17072/3719262324.py\u001b[0m in \u001b[0;36m<module>\u001b[1;34m\u001b[0m\n\u001b[1;32m----> 1\u001b[1;33m \u001b[0md\u001b[0m \u001b[1;33m=\u001b[0m \u001b[0mX_m\u001b[0m\u001b[1;33m*\u001b[0m\u001b[0mnp\u001b[0m\u001b[1;33m.\u001b[0m\u001b[0msin\u001b[0m\u001b[1;33m(\u001b[0m\u001b[0mdelta\u001b[0m \u001b[1;33m-\u001b[0m \u001b[0mX_a\u001b[0m\u001b[1;33m)\u001b[0m\u001b[1;33m\u001b[0m\u001b[1;33m\u001b[0m\u001b[0m\n\u001b[0m\u001b[0;32m      2\u001b[0m \u001b[0mq\u001b[0m \u001b[1;33m=\u001b[0m \u001b[0mX_m\u001b[0m\u001b[1;33m*\u001b[0m\u001b[0mnp\u001b[0m\u001b[1;33m.\u001b[0m\u001b[0mcos\u001b[0m\u001b[1;33m(\u001b[0m\u001b[0mdelta\u001b[0m \u001b[1;33m-\u001b[0m \u001b[0mX_a\u001b[0m\u001b[1;33m)\u001b[0m\u001b[1;33m\u001b[0m\u001b[1;33m\u001b[0m\u001b[0m\n\u001b[0;32m      3\u001b[0m \u001b[1;33m\u001b[0m\u001b[0m\n\u001b[0;32m      4\u001b[0m \u001b[0mprint\u001b[0m\u001b[1;33m(\u001b[0m\u001b[1;34mf'd = {d:0.3f}, q = {q:0.3f}'\u001b[0m\u001b[1;33m)\u001b[0m\u001b[1;33m\u001b[0m\u001b[1;33m\u001b[0m\u001b[0m\n",
      "\u001b[1;31mTypeError\u001b[0m: loop of ufunc does not support argument 0 of type Add which has no callable sin method"
     ]
    }
   ],
   "source": [
    "d = X_m*np.sin(delta - X_a) \n",
    "q = X_m*np.cos(delta - X_a) \n",
    "\n",
    "print(f'd = {d:0.3f}, q = {q:0.3f}')"
   ]
  },
  {
   "cell_type": "code",
   "execution_count": null,
   "id": "94bb317c",
   "metadata": {},
   "outputs": [],
   "source": [
    "r = X.real   # X_m*cos(X_a)\n",
    "i = X.imag   # X_m*sin(X_a)\n",
    "\n",
    "print(f'r = {r:0.3f}, i = {i:0.3f}')\n",
    "\n",
    "D = i\n",
    "Q = r\n",
    "\n",
    "print(f'D = {D:0.3f}, Q = {Q:0.3f}')\n",
    "\n",
    "# Park DQ to dq\n",
    "d = -D * np.cos(delta) + Q * np.sin(delta)   \n",
    "q =  D * np.sin(delta) + Q * np.cos(delta)\n",
    "\n",
    "print(f'd = {d:0.3f}, q = {q:0.3f}')\n",
    "\n",
    "# Inverse Park dq to DQ, P = inv(P)\n",
    "D = -d * np.cos(delta) + q * np.sin(delta)   \n",
    "Q =  d * np.sin(delta) + q * np.cos(delta) \n",
    "\n",
    "\n",
    "print(f'D = {D:0.3f}, Q = {Q:0.3f}')\n",
    "\n",
    "i = D\n",
    "r = Q\n",
    "\n",
    "print(f'r = {r:0.3f}, i = {i:0.3f}')"
   ]
  },
  {
   "cell_type": "markdown",
   "id": "442f2590",
   "metadata": {},
   "source": [
    "### Parks symbolic"
   ]
  },
  {
   "cell_type": "code",
   "execution_count": null,
   "id": "f8f46840",
   "metadata": {},
   "outputs": [],
   "source": [
    "delta = sym.Symbol('delta', real = True)\n",
    "\n",
    "P = sym.Matrix([[-sym.cos(delta), sym.sin(delta)],\n",
    "                [ sym.sin(delta), sym.cos(delta)]])\n",
    "P"
   ]
  },
  {
   "cell_type": "code",
   "execution_count": null,
   "id": "6c43d5f5",
   "metadata": {},
   "outputs": [],
   "source": [
    "sym.simplify(P.inv())"
   ]
  },
  {
   "cell_type": "code",
   "execution_count": null,
   "id": "0bab5a7f",
   "metadata": {},
   "outputs": [],
   "source": []
  },
  {
   "cell_type": "code",
   "execution_count": null,
   "id": "4a807f1e",
   "metadata": {},
   "outputs": [],
   "source": [
    "### RL circuit"
   ]
  },
  {
   "cell_type": "code",
   "execution_count": null,
   "id": "2cdfb78a",
   "metadata": {},
   "outputs": [],
   "source": [
    "v_1_r,v_1_i = sym.symbols('v_1_r,v_1_i', real = True)\n",
    "v_2_r,v_2_i = sym.symbols('v_2_r,v_2_i', real = True)\n",
    "i_1_r,i_1_i = sym.symbols('i_1_r,i_1_i', real = True)\n",
    "R,X = sym.symbols('R,X', real = True)\n",
    "\n",
    "v_1 = v_1_r + 1j*v_1_i\n",
    "v_2 = v_2_r + 1j*v_2_i\n",
    "i_1 = i_1_r + 1j*i_1_i\n",
    "Z = R + 1j*X\n",
    "\n",
    "eq = v_1 - Z*i_1 - v_2 \n",
    "\n",
    "ri = sym.Matrix([[ sym.re(eq)],\n",
    "                 [ sym.im(eq)]])\n",
    "\n",
    "ri"
   ]
  },
  {
   "cell_type": "code",
   "execution_count": null,
   "id": "43c0992d",
   "metadata": {},
   "outputs": [],
   "source": [
    "v_1_D,v_1_Q = sym.symbols('v_1_D,v_1_Q', real = True)\n",
    "v_2_D,v_2_Q = sym.symbols('v_2_D,v_2_Q', real = True)\n",
    "i_1_D,i_1_Q = sym.symbols('i_1_D,i_1_Q', real = True)\n",
    "R,X = sym.symbols('R,X', real = True)\n",
    "\n",
    "v_1 = v_1_Q + 1j*v_1_D\n",
    "v_2 = v_2_Q + 1j*v_2_D\n",
    "i_1 = i_1_Q + 1j*i_1_D\n",
    "Z = R + 1j*X\n",
    "\n",
    "eq = v_1 - Z*i_1 - v_2 \n",
    "\n",
    "DQ = sym.Matrix([[ sym.re(eq)],\n",
    "                 [ sym.im(eq)]])\n",
    "\n",
    "DQ"
   ]
  },
  {
   "cell_type": "code",
   "execution_count": null,
   "id": "1d4bdc70",
   "metadata": {},
   "outputs": [],
   "source": [
    "eq = v_1 - Z*i_1 - v_2 "
   ]
  },
  {
   "cell_type": "code",
   "execution_count": null,
   "id": "9ea23066",
   "metadata": {},
   "outputs": [],
   "source": [
    "# eq = v_1DQ - Z*i_1DQ - v_2DQ\n",
    "# eq = Pinv*v_1dq - Z*Pinv*i_1dq - Pinv*v_2dq\n",
    "# eq = P*(Pinv*v_1dq - Z*Pinv*i_1dq - Pinv*v_2dq)\n",
    "# eq = P*Pinv*v_1dq - P*Z*Pinv*i_1dq - P*Pinv*v_2dq)\n",
    "# eq = v_1dq - P*Z*Pinv*i_1dq - v_2dq)\n",
    "\n",
    "v_1_d,v_1_q = sym.symbols('v_1_d,v_1_q', real = True)\n",
    "v_2_d,v_2_q = sym.symbols('v_2_d,v_2_q', real = True)\n",
    "i_1_d,i_1_q = sym.symbols('i_1_d,i_1_q', real = True)\n",
    "R,X = sym.symbols('R,X', real = True)\n",
    "Z_matrix = sym.Matrix([[-R,  X],\n",
    "                       [-X, -R]])\n",
    "\n",
    "v_1_dq = sym.Matrix([[v_1_d],\n",
    "                     [v_1_q]])\n",
    "\n",
    "v_2_dq = sym.Matrix([[v_2_d],\n",
    "                     [v_2_q]])\n",
    "\n",
    "i_1_dq = sym.Matrix([[i_1_d],\n",
    "                     [i_1_q]])\n",
    "\n",
    "eq = v_1_dq - (P*Z_matrix*P.inv())*i_1_dq - v_2_dq\n",
    "sym.simplify(eq)"
   ]
  },
  {
   "cell_type": "code",
   "execution_count": null,
   "id": "c954c34e",
   "metadata": {},
   "outputs": [],
   "source": []
  },
  {
   "cell_type": "code",
   "execution_count": null,
   "id": "6953d8f5",
   "metadata": {},
   "outputs": [],
   "source": []
  },
  {
   "cell_type": "code",
   "execution_count": null,
   "id": "c0d3701c",
   "metadata": {},
   "outputs": [],
   "source": [
    "R_s = 0.02\n",
    "X_s = 0.2\n",
    "\n",
    "R_v = 0.01\n",
    "X_v = 0.1\n",
    "\n",
    "Z_s = R_s + 1j*X_s\n",
    "Z_v = R_v + 1j*X_v\n",
    "\n",
    "theta_s = 0.0\n",
    "V_s = 1.0\n",
    "v_s_ri = V_s*np.exp(1j*theta_s)\n",
    "\n",
    "phi_s = 0.0\n",
    "I_s = 0.5\n",
    "i_s_ri = V_s*np.exp(1j*(theta_s+phi_s))\n",
    "\n",
    "v_t_ri = v_s_ri + Z_s*i_s_ri\n",
    "\n",
    "e_v_ri = v_t_ri + Z_v*i_s_ri\n",
    "\n",
    "print(e_v_ri)"
   ]
  },
  {
   "cell_type": "code",
   "execution_count": null,
   "id": "d43d2f8a",
   "metadata": {},
   "outputs": [],
   "source": []
  },
  {
   "cell_type": "code",
   "execution_count": null,
   "id": "52a840b5",
   "metadata": {},
   "outputs": [],
   "source": [
    "v_si = v_s_ri.imag\n",
    "v_sr = v_s_ri.real\n",
    "i_si = i_s_ri.imag\n",
    "i_sr = i_s_ri.real\n",
    "\n",
    "v_ti =  R_s*i_si + X_s*i_sr + v_si  \n",
    "v_tr =  R_s*i_sr - X_s*i_si + v_sr \n",
    "\n",
    "e_vi =  R_v*i_si + X_v*i_sr + v_ti  \n",
    "e_vr =  R_v*i_sr - X_v*i_si + v_tr \n",
    "\n",
    "theta_v = np.arctan2(e_vi,e_vr)\n",
    "\n",
    "\n",
    "print(e_vr,e_vi)"
   ]
  },
  {
   "cell_type": "code",
   "execution_count": null,
   "id": "207fe054",
   "metadata": {},
   "outputs": [],
   "source": [
    "v_si = v_s_ri.imag\n",
    "v_sr = v_s_ri.real\n",
    "i_si = i_s_ri.imag\n",
    "i_sr = i_s_ri.real\n",
    "\n",
    "# 0 = v_ti - R_s*i_si - X_s*i_sr - v_si\n",
    "# 0 = v_tr - R_s*i_sr + X_s*i_si - v_sr \n",
    "v_ti =  R_s*i_si + X_s*i_sr + v_si  \n",
    "v_tr =  R_s*i_sr - X_s*i_si + v_sr \n",
    "\n",
    "i_sD = i_si\n",
    "i_sQ = i_sr\n",
    "v_tD = v_ti\n",
    "v_tQ = v_tr\n",
    "\n",
    "e_vD =  R_v*i_sD + X_v*i_sQ + v_tD  \n",
    "e_vQ =  R_v*i_sQ - X_v*i_sD + v_tQ \n",
    "\n",
    "\n",
    "delta = theta_v\n",
    "\n",
    "v_td = v_tD * np.cos(delta) - v_tQ * np.sin(delta)   \n",
    "v_tq = v_tD * np.sin(delta) + v_tQ * np.cos(delta)\n",
    "\n",
    "i_sd = i_sD * np.cos(delta) - i_sQ * np.sin(delta)   \n",
    "i_sq = i_sD * np.sin(delta) + i_sQ * np.cos(delta)\n",
    "\n",
    "# 0 = e_vd - R_v*i_sd - X_v*i_sq - v_td  \n",
    "# 0 = e_vq - R_v*i_sq + X_v*i_sd - v_tq \n",
    "e_vd =  R_v*i_sd + X_v*i_sq + v_td  \n",
    "e_vq =  R_v*i_sq - X_v*i_sd + v_tq \n",
    "\n",
    "#print(e_vd,e_vq)\n",
    "\n",
    "e_vD =  e_vd * np.cos(delta) + e_vq * np.sin(delta)   \n",
    "e_vQ = -e_vd * np.sin(delta) + e_vq * np.cos(delta) \n",
    "\n",
    "e_vi = e_vD\n",
    "e_vr = e_vQ\n",
    "\n",
    "print(e_vr,e_vi)"
   ]
  },
  {
   "cell_type": "code",
   "execution_count": null,
   "id": "b9d36376",
   "metadata": {},
   "outputs": [],
   "source": [
    "e_vd"
   ]
  },
  {
   "cell_type": "code",
   "execution_count": null,
   "id": "1762b062",
   "metadata": {},
   "outputs": [],
   "source": [
    "e_vq"
   ]
  },
  {
   "cell_type": "code",
   "execution_count": null,
   "id": "43692f09",
   "metadata": {},
   "outputs": [],
   "source": []
  }
 ],
 "metadata": {
  "jupytext": {
   "formats": "ipynb,md:myst",
   "text_representation": {
    "extension": ".md",
    "format_name": "myst",
    "format_version": 0.13,
    "jupytext_version": "1.14.1"
   }
  },
  "kernelspec": {
   "display_name": "Python 3 (ipykernel)",
   "language": "python",
   "name": "python3"
  },
  "language_info": {
   "codemirror_mode": {
    "name": "ipython",
    "version": 3
   },
   "file_extension": ".py",
   "mimetype": "text/x-python",
   "name": "python",
   "nbconvert_exporter": "python",
   "pygments_lexer": "ipython3",
   "version": "3.9.13"
  },
  "source_map": [
   13,
   17,
   20,
   24,
   31,
   35,
   43,
   47,
   54,
   58,
   63,
   67,
   77,
   81,
   87,
   91,
   93,
   102,
   109,
   137,
   141,
   149,
   153,
   157,
   161,
   180,
   199,
   203,
   230,
   234,
   238,
   263,
   267,
   285,
   329,
   333,
   337
  ]
 },
 "nbformat": 4,
 "nbformat_minor": 5
}