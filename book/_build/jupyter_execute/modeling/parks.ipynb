{
 "cells": [
  {
   "cell_type": "markdown",
   "id": "52047346",
   "metadata": {},
   "source": [
    "### EASY-RES"
   ]
  },
  {
   "cell_type": "code",
   "execution_count": 1,
   "id": "a10a809f",
   "metadata": {},
   "outputs": [
    {
     "ename": "NameError",
     "evalue": "name 'np' is not defined",
     "output_type": "error",
     "traceback": [
      "\u001b[1;31m---------------------------------------------------------------------------\u001b[0m",
      "\u001b[1;31mNameError\u001b[0m                                 Traceback (most recent call last)",
      "\u001b[1;32m~\\AppData\\Local\\Temp\\ipykernel_25072\\2346995559.py\u001b[0m in \u001b[0;36m<module>\u001b[1;34m\u001b[0m\n\u001b[0;32m      1\u001b[0m \u001b[1;31m# sin base\u001b[0m\u001b[1;33m\u001b[0m\u001b[1;33m\u001b[0m\u001b[0m\n\u001b[0;32m      2\u001b[0m \u001b[0mX_m\u001b[0m \u001b[1;33m=\u001b[0m \u001b[1;36m20.0\u001b[0m  \u001b[1;31m# phasor module\u001b[0m\u001b[1;33m\u001b[0m\u001b[1;33m\u001b[0m\u001b[0m\n\u001b[1;32m----> 3\u001b[1;33m \u001b[0mX_a\u001b[0m \u001b[1;33m=\u001b[0m\u001b[1;33m-\u001b[0m\u001b[0mnp\u001b[0m\u001b[1;33m.\u001b[0m\u001b[0mpi\u001b[0m\u001b[1;33m/\u001b[0m\u001b[1;36m4\u001b[0m  \u001b[1;31m# phasor angle\u001b[0m\u001b[1;33m\u001b[0m\u001b[1;33m\u001b[0m\u001b[0m\n\u001b[0m\u001b[0;32m      4\u001b[0m \u001b[1;33m\u001b[0m\u001b[0m\n\u001b[0;32m      5\u001b[0m \u001b[0mX\u001b[0m \u001b[1;33m=\u001b[0m \u001b[0mX_m\u001b[0m\u001b[1;33m*\u001b[0m\u001b[0mnp\u001b[0m\u001b[1;33m.\u001b[0m\u001b[0mexp\u001b[0m\u001b[1;33m(\u001b[0m\u001b[1;36m1j\u001b[0m\u001b[1;33m*\u001b[0m\u001b[0mX_a\u001b[0m\u001b[1;33m)\u001b[0m \u001b[1;31m#np.exp(1j*omega*t)\u001b[0m\u001b[1;33m\u001b[0m\u001b[1;33m\u001b[0m\u001b[0m\n",
      "\u001b[1;31mNameError\u001b[0m: name 'np' is not defined"
     ]
    }
   ],
   "source": [
    "# sin base\n",
    "X_m = 20.0  # phasor module\n",
    "X_a =-np.pi/4  # phasor angle \n",
    "\n",
    "X = X_m*np.exp(1j*X_a) #np.exp(1j*omega*t)\n",
    "\n",
    "print(f'X_m = {X_m:0.3f}, X_a = {X_a:0.3f}')\n",
    "\n",
    "r = X.real   # X_m*cos(X_a)\n",
    "i = X.imag   # X_m*sin(X_a)\n",
    "print(f'r = {r:0.3f}, i = {i:0.3f}')\n",
    "\n",
    "alpha = i\n",
    "beta  =-r\n",
    "\n",
    "print(f'alpha = {alpha:0.3f}, beta = {beta:0.3f}')\n",
    "\n",
    "#print(f'D = {D:0.3f}, Q = {Q:0.3f}')\n",
    "\n",
    "delta = 0.0\n",
    "\n",
    "d = alpha * np.cos(delta) + beta * np.sin(delta)   \n",
    "q =-alpha * np.sin(delta) + beta * np.cos(delta)\n",
    "\n",
    "print(f'd = {d:0.3f}, q = {q:0.3f}')\n",
    "\n",
    "# dq2ab\n",
    "alpha =  d * np.cos(delta) - q * np.sin(delta)   \n",
    "beta  =  d * np.sin(delta) + q * np.cos(delta) \n",
    "\n",
    "print(f'alpha = {alpha:0.3f}, beta = {beta:0.3f}')\n",
    "\n",
    "i = -alpha\n",
    "r = -beta \n",
    "\n",
    "print(f'r = {r:0.3f}, i = {i:0.3f}')\n",
    "\n",
    "m = np.sqrt(r**2 + i**2)\n",
    "theta = np.arctan2(i,r) \n",
    "\n",
    "print(f'm = {m:0.3f}, theta = {theta:0.3f}')"
   ]
  },
  {
   "cell_type": "code",
   "execution_count": null,
   "id": "06052b41",
   "metadata": {},
   "outputs": [],
   "source": [
    "theta"
   ]
  },
  {
   "cell_type": "markdown",
   "id": "b9613d57",
   "metadata": {},
   "source": [
    "### Park transform"
   ]
  },
  {
   "cell_type": "code",
   "execution_count": null,
   "id": "1386c955",
   "metadata": {},
   "outputs": [],
   "source": [
    "import sympy as sym\n",
    "import numpy as np"
   ]
  },
  {
   "cell_type": "markdown",
   "id": "526e012c",
   "metadata": {},
   "source": [
    "#### Phasor definition"
   ]
  },
  {
   "cell_type": "code",
   "execution_count": null,
   "id": "2f4b1967",
   "metadata": {},
   "outputs": [],
   "source": [
    "X_m =  1.0  # phasor module\n",
    "X_a =  0.1  # phasor angle \n",
    "\n",
    "X = X_m*np.exp(1j*X_a)\n",
    "\n",
    "print(f'X_m = {X_m:0.3f}, X_a = {X_a:0.3f}')"
   ]
  },
  {
   "cell_type": "markdown",
   "id": "590422e1",
   "metadata": {},
   "source": [
    "#### Phasor to generic DQ"
   ]
  },
  {
   "cell_type": "code",
   "execution_count": null,
   "id": "ea6afdd7",
   "metadata": {},
   "outputs": [],
   "source": [
    "r = X.real   # X_m*cos(X_a)\n",
    "i = X.imag   # X_m*sin(X_a)\n",
    "\n",
    "D = i\n",
    "Q = r\n",
    "\n",
    "print(f'D = {D:0.3f}, Q = {Q:0.3f}')"
   ]
  },
  {
   "cell_type": "markdown",
   "id": "fbc8b64b",
   "metadata": {},
   "source": [
    "### Park transform DQ to dq with angle $\\delta$"
   ]
  },
  {
   "cell_type": "code",
   "execution_count": null,
   "id": "f6c3365c",
   "metadata": {},
   "outputs": [],
   "source": [
    "delta = 0.0\n",
    "\n",
    "d = D * np.cos(delta) - Q * np.sin(delta)   \n",
    "q = D * np.sin(delta) + Q * np.cos(delta)\n",
    "\n",
    "print(f'd = {d:0.3f}, q = {q:0.3f}')"
   ]
  },
  {
   "cell_type": "markdown",
   "id": "1a4b4090",
   "metadata": {},
   "source": [
    "#### Inverse Park transform dq to DQ with angle $\\delta$"
   ]
  },
  {
   "cell_type": "code",
   "execution_count": null,
   "id": "3706516f",
   "metadata": {},
   "outputs": [],
   "source": [
    "D =  d * np.cos(delta) + q * np.sin(delta)   \n",
    "Q = -d * np.sin(delta) + q * np.cos(delta) \n",
    "\n",
    "print(f'D = {D:0.3f}, Q = {Q:0.3f}')"
   ]
  },
  {
   "cell_type": "markdown",
   "id": "3b7b10b7",
   "metadata": {},
   "source": [
    "#### From DQ to phasor"
   ]
  },
  {
   "cell_type": "code",
   "execution_count": null,
   "id": "cabe705a",
   "metadata": {},
   "outputs": [],
   "source": [
    "i = D\n",
    "r = Q\n",
    "print(f'r = {r:0.3f}, i = {i:0.3f}')\n",
    "\n",
    "P_m = np.sqrt(r**2 + i**2)\n",
    "P_a = np.arctan2(i,r)\n",
    "print(f'P_m = {P_m:0.3f}, P_a = {P_a:0.3f}')"
   ]
  },
  {
   "cell_type": "markdown",
   "id": "8e07800a",
   "metadata": {},
   "source": [
    "### RL circuit"
   ]
  },
  {
   "cell_type": "code",
   "execution_count": null,
   "id": "2e6ca010",
   "metadata": {},
   "outputs": [],
   "source": [
    "X_s = 0.1\n",
    "R_s = 1.0\n",
    "V_s = 1.0\n",
    "theta_vs = 0.0\n",
    "I_s = 1.0\n",
    "theta_is = 0.2\n",
    "\n",
    "v_s = V_s*np.exp(1j*theta_vs)\n",
    "i_s = I_s*np.exp(1j*theta_is)\n",
    "\n",
    "v_sr = v_s.real   # X_m*cos(X_a)\n",
    "v_si = v_s.imag   # X_m*sin(X_a)\n",
    "\n",
    "i_sr = i_s.real   # X_m*cos(X_a)\n",
    "i_si = i_s.imag   # X_m*sin(X_a)\n",
    "\n",
    "v_ti =  R_s*i_si + X_s*i_sr + v_si  \n",
    "v_tr =  R_s*i_sr - X_s*i_si + v_sr \n",
    "\n",
    "print(f'v_tr = {v_tr:0.3f}, v_ti = {v_ti:0.3f}')\n",
    "\n",
    "delta = -0.1\n",
    "v_sd = v_si * np.cos(delta) - v_sr * np.sin(delta)   \n",
    "v_sq = v_si * np.sin(delta) + v_sr * np.cos(delta)\n",
    "i_sd = i_si * np.cos(delta) - i_sr * np.sin(delta)   \n",
    "i_sq = i_si * np.sin(delta) + i_sr * np.cos(delta)\n",
    "\n",
    "v_td =  R_s*i_sd + X_s*i_sq + v_sd  \n",
    "v_tq =  R_s*i_sq - X_s*i_sd + v_sq \n",
    "\n",
    "v_ti =  v_td * np.cos(delta) + v_tq * np.sin(delta)   \n",
    "v_tr = -v_td * np.sin(delta) + v_tq * np.cos(delta) \n",
    "\n",
    "print(f'v_tr = {v_tr:0.3f}, v_ti = {v_ti:0.3f}')\n",
    "\n",
    "s_s = v_s*np.conj(i_s)\n",
    "\n",
    "p_s_ri = i_sr*v_sr + i_si*v_si\n",
    "q_s_ri = i_sr*v_si - i_si*v_sr\n",
    "\n",
    "p_s_dq = i_sd*v_sd + i_sq*v_sq\n",
    "q_s_dq = i_sq*v_sd - i_sd*v_sq\n",
    "\n",
    "print(f'p_s =    {s_s.real:0.3f},    q_s = {s_s.imag:0.3f}')\n",
    "print(f'p_s_ri = {p_s_ri:0.3f}, q_s_ri = {q_s_ri:0.3f}')\n",
    "print(f'p_s_dq = {p_s_dq:0.3f}, q_s_dq = {q_s_dq:0.3f}')"
   ]
  },
  {
   "cell_type": "markdown",
   "id": "ca3f5ed6",
   "metadata": {},
   "source": [
    "### Powers"
   ]
  },
  {
   "cell_type": "code",
   "execution_count": null,
   "id": "d2f25e97",
   "metadata": {},
   "outputs": [],
   "source": []
  },
  {
   "cell_type": "code",
   "execution_count": null,
   "id": "b964f808",
   "metadata": {},
   "outputs": [],
   "source": [
    "re,im = sym.symbols('d,q', real = True)\n",
    "D,Q = sym.symbols('D,Q', real = True)\n",
    "delta = sym.Symbol('delta', real = True)"
   ]
  },
  {
   "cell_type": "code",
   "execution_count": null,
   "id": "8460b5de",
   "metadata": {},
   "outputs": [],
   "source": []
  },
  {
   "cell_type": "code",
   "execution_count": null,
   "id": "7dd79eed",
   "metadata": {},
   "outputs": [],
   "source": []
  },
  {
   "cell_type": "markdown",
   "id": "8527372d",
   "metadata": {},
   "source": [
    "### Park from milano\n",
    "\n",
    "$$\n",
    "d = X_m \\sin\\left(\\delta - X_a\\right)  \\\\\n",
    "q = X_m \\cos\\left(\\delta - X_a\\right)\n",
    "$$"
   ]
  },
  {
   "cell_type": "code",
   "execution_count": null,
   "id": "3298ca9b",
   "metadata": {},
   "outputs": [],
   "source": [
    "X_m = 20.0  # phasor module\n",
    "X_a =-np.pi/4  # phasor angle \n",
    "\n",
    "delta = 0.0\n",
    "X = X_m*np.exp(1j*X_a) #np.exp(1j*omega*t)\n",
    "\n",
    "d = X_m*np.sin(delta - X_a) \n",
    "q = X_m*np.cos(delta - X_a) \n",
    "\n",
    "print(f'd = {d:0.3f}, q = {q:0.3f}')"
   ]
  },
  {
   "cell_type": "code",
   "execution_count": null,
   "id": "89d1f99f",
   "metadata": {},
   "outputs": [],
   "source": [
    "r = X.real   # X_m*cos(X_a)\n",
    "i = X.imag   # X_m*sin(X_a)\n",
    "\n",
    "print(f'r = {r:0.3f}, i = {i:0.3f}')\n",
    "\n",
    "D = i\n",
    "Q = r\n",
    "\n",
    "print(f'D = {D:0.3f}, Q = {Q:0.3f}')\n",
    "\n",
    "# Park DQ to dq\n",
    "d = -D * np.cos(delta) + Q * np.sin(delta)   \n",
    "q =  D * np.sin(delta) + Q * np.cos(delta)\n",
    "\n",
    "print(f'd = {d:0.3f}, q = {q:0.3f}')\n",
    "\n",
    "# Inverse Park dq to DQ, P = inv(P)\n",
    "D = -d * np.cos(delta) + q * np.sin(delta)   \n",
    "Q =  d * np.sin(delta) + q * np.cos(delta) \n",
    "\n",
    "\n",
    "print(f'D = {D:0.3f}, Q = {Q:0.3f}')\n",
    "\n",
    "i = D\n",
    "r = Q\n",
    "\n",
    "print(f'r = {r:0.3f}, i = {i:0.3f}')"
   ]
  },
  {
   "cell_type": "markdown",
   "id": "3145e259",
   "metadata": {},
   "source": [
    "### Parks symbolic"
   ]
  },
  {
   "cell_type": "code",
   "execution_count": null,
   "id": "329e2dfc",
   "metadata": {},
   "outputs": [],
   "source": [
    "delta = sym.Symbol('delta', real = True)\n",
    "\n",
    "P = sym.Matrix([[-sym.cos(delta), sym.sin(delta)],\n",
    "                [ sym.sin(delta), sym.cos(delta)]])\n",
    "P"
   ]
  },
  {
   "cell_type": "code",
   "execution_count": null,
   "id": "5ce3a6bd",
   "metadata": {},
   "outputs": [],
   "source": [
    "sym.simplify(P.inv())"
   ]
  },
  {
   "cell_type": "code",
   "execution_count": null,
   "id": "ffdaeaf3",
   "metadata": {},
   "outputs": [],
   "source": []
  },
  {
   "cell_type": "code",
   "execution_count": null,
   "id": "9d1103fd",
   "metadata": {},
   "outputs": [],
   "source": [
    "### RL circuit"
   ]
  },
  {
   "cell_type": "code",
   "execution_count": null,
   "id": "43cbb94f",
   "metadata": {},
   "outputs": [],
   "source": [
    "v_1_r,v_1_i = sym.symbols('v_1_r,v_1_i', real = True)\n",
    "v_2_r,v_2_i = sym.symbols('v_2_r,v_2_i', real = True)\n",
    "i_1_r,i_1_i = sym.symbols('i_1_r,i_1_i', real = True)\n",
    "R,X = sym.symbols('R,X', real = True)\n",
    "\n",
    "v_1 = v_1_r + 1j*v_1_i\n",
    "v_2 = v_2_r + 1j*v_2_i\n",
    "i_1 = i_1_r + 1j*i_1_i\n",
    "Z = R + 1j*X\n",
    "\n",
    "eq = v_1 - Z*i_1 - v_2 \n",
    "\n",
    "ri = sym.Matrix([[ sym.re(eq)],\n",
    "                 [ sym.im(eq)]])\n",
    "\n",
    "ri"
   ]
  },
  {
   "cell_type": "code",
   "execution_count": null,
   "id": "b55ca11d",
   "metadata": {},
   "outputs": [],
   "source": [
    "v_1_D,v_1_Q = sym.symbols('v_1_D,v_1_Q', real = True)\n",
    "v_2_D,v_2_Q = sym.symbols('v_2_D,v_2_Q', real = True)\n",
    "i_1_D,i_1_Q = sym.symbols('i_1_D,i_1_Q', real = True)\n",
    "R,X = sym.symbols('R,X', real = True)\n",
    "\n",
    "v_1 = v_1_Q + 1j*v_1_D\n",
    "v_2 = v_2_Q + 1j*v_2_D\n",
    "i_1 = i_1_Q + 1j*i_1_D\n",
    "Z = R + 1j*X\n",
    "\n",
    "eq = v_1 - Z*i_1 - v_2 \n",
    "\n",
    "DQ = sym.Matrix([[ sym.re(eq)],\n",
    "                 [ sym.im(eq)]])\n",
    "\n",
    "DQ"
   ]
  },
  {
   "cell_type": "code",
   "execution_count": null,
   "id": "4b2f915d",
   "metadata": {},
   "outputs": [],
   "source": [
    "eq = v_1 - Z*i_1 - v_2 "
   ]
  },
  {
   "cell_type": "code",
   "execution_count": null,
   "id": "02f2f91f",
   "metadata": {},
   "outputs": [],
   "source": [
    "# eq = v_1DQ - Z*i_1DQ - v_2DQ\n",
    "# eq = Pinv*v_1dq - Z*Pinv*i_1dq - Pinv*v_2dq\n",
    "# eq = P*(Pinv*v_1dq - Z*Pinv*i_1dq - Pinv*v_2dq)\n",
    "# eq = P*Pinv*v_1dq - P*Z*Pinv*i_1dq - P*Pinv*v_2dq)\n",
    "# eq = v_1dq - P*Z*Pinv*i_1dq - v_2dq)\n",
    "\n",
    "v_1_d,v_1_q = sym.symbols('v_1_d,v_1_q', real = True)\n",
    "v_2_d,v_2_q = sym.symbols('v_2_d,v_2_q', real = True)\n",
    "i_1_d,i_1_q = sym.symbols('i_1_d,i_1_q', real = True)\n",
    "R,X = sym.symbols('R,X', real = True)\n",
    "Z_matrix = sym.Matrix([[-R,  X],\n",
    "                       [-X, -R]])\n",
    "\n",
    "v_1_dq = sym.Matrix([[v_1_d],\n",
    "                     [v_1_q]])\n",
    "\n",
    "v_2_dq = sym.Matrix([[v_2_d],\n",
    "                     [v_2_q]])\n",
    "\n",
    "i_1_dq = sym.Matrix([[i_1_d],\n",
    "                     [i_1_q]])\n",
    "\n",
    "eq = v_1_dq - (P*Z_matrix*P.inv())*i_1_dq - v_2_dq\n",
    "sym.simplify(eq)"
   ]
  },
  {
   "cell_type": "code",
   "execution_count": null,
   "id": "7807af77",
   "metadata": {},
   "outputs": [],
   "source": []
  },
  {
   "cell_type": "code",
   "execution_count": null,
   "id": "445812de",
   "metadata": {},
   "outputs": [],
   "source": []
  },
  {
   "cell_type": "code",
   "execution_count": null,
   "id": "63147049",
   "metadata": {},
   "outputs": [],
   "source": [
    "R_s = 0.02\n",
    "X_s = 0.2\n",
    "\n",
    "R_v = 0.01\n",
    "X_v = 0.1\n",
    "\n",
    "Z_s = R_s + 1j*X_s\n",
    "Z_v = R_v + 1j*X_v\n",
    "\n",
    "theta_s = 0.0\n",
    "V_s = 1.0\n",
    "v_s_ri = V_s*np.exp(1j*theta_s)\n",
    "\n",
    "phi_s = 0.0\n",
    "I_s = 0.5\n",
    "i_s_ri = V_s*np.exp(1j*(theta_s+phi_s))\n",
    "\n",
    "v_t_ri = v_s_ri + Z_s*i_s_ri\n",
    "\n",
    "e_v_ri = v_t_ri + Z_v*i_s_ri\n",
    "\n",
    "print(e_v_ri)"
   ]
  },
  {
   "cell_type": "code",
   "execution_count": null,
   "id": "ffb2cd9f",
   "metadata": {},
   "outputs": [],
   "source": []
  },
  {
   "cell_type": "code",
   "execution_count": null,
   "id": "5419f03b",
   "metadata": {},
   "outputs": [],
   "source": [
    "v_si = v_s_ri.imag\n",
    "v_sr = v_s_ri.real\n",
    "i_si = i_s_ri.imag\n",
    "i_sr = i_s_ri.real\n",
    "\n",
    "v_ti =  R_s*i_si + X_s*i_sr + v_si  \n",
    "v_tr =  R_s*i_sr - X_s*i_si + v_sr \n",
    "\n",
    "e_vi =  R_v*i_si + X_v*i_sr + v_ti  \n",
    "e_vr =  R_v*i_sr - X_v*i_si + v_tr \n",
    "\n",
    "theta_v = np.arctan2(e_vi,e_vr)\n",
    "\n",
    "\n",
    "print(e_vr,e_vi)"
   ]
  },
  {
   "cell_type": "code",
   "execution_count": null,
   "id": "0f1aae5d",
   "metadata": {},
   "outputs": [],
   "source": [
    "v_si = v_s_ri.imag\n",
    "v_sr = v_s_ri.real\n",
    "i_si = i_s_ri.imag\n",
    "i_sr = i_s_ri.real\n",
    "\n",
    "# 0 = v_ti - R_s*i_si - X_s*i_sr - v_si\n",
    "# 0 = v_tr - R_s*i_sr + X_s*i_si - v_sr \n",
    "v_ti =  R_s*i_si + X_s*i_sr + v_si  \n",
    "v_tr =  R_s*i_sr - X_s*i_si + v_sr \n",
    "\n",
    "i_sD = i_si\n",
    "i_sQ = i_sr\n",
    "v_tD = v_ti\n",
    "v_tQ = v_tr\n",
    "\n",
    "e_vD =  R_v*i_sD + X_v*i_sQ + v_tD  \n",
    "e_vQ =  R_v*i_sQ - X_v*i_sD + v_tQ \n",
    "\n",
    "\n",
    "delta = theta_v\n",
    "\n",
    "v_td = v_tD * np.cos(delta) - v_tQ * np.sin(delta)   \n",
    "v_tq = v_tD * np.sin(delta) + v_tQ * np.cos(delta)\n",
    "\n",
    "i_sd = i_sD * np.cos(delta) - i_sQ * np.sin(delta)   \n",
    "i_sq = i_sD * np.sin(delta) + i_sQ * np.cos(delta)\n",
    "\n",
    "# 0 = e_vd - R_v*i_sd - X_v*i_sq - v_td  \n",
    "# 0 = e_vq - R_v*i_sq + X_v*i_sd - v_tq \n",
    "e_vd =  R_v*i_sd + X_v*i_sq + v_td  \n",
    "e_vq =  R_v*i_sq - X_v*i_sd + v_tq \n",
    "\n",
    "#print(e_vd,e_vq)\n",
    "\n",
    "e_vD =  e_vd * np.cos(delta) + e_vq * np.sin(delta)   \n",
    "e_vQ = -e_vd * np.sin(delta) + e_vq * np.cos(delta) \n",
    "\n",
    "e_vi = e_vD\n",
    "e_vr = e_vQ\n",
    "\n",
    "print(e_vr,e_vi)"
   ]
  },
  {
   "cell_type": "code",
   "execution_count": null,
   "id": "060ebed3",
   "metadata": {},
   "outputs": [],
   "source": [
    "e_vd"
   ]
  },
  {
   "cell_type": "code",
   "execution_count": null,
   "id": "23f8d881",
   "metadata": {},
   "outputs": [],
   "source": [
    "e_vq"
   ]
  },
  {
   "cell_type": "code",
   "execution_count": null,
   "id": "495e10b9",
   "metadata": {},
   "outputs": [],
   "source": []
  },
  {
   "cell_type": "markdown",
   "id": "ed966785",
   "metadata": {},
   "source": [
    "### Park transform in USE-LABS"
   ]
  },
  {
   "cell_type": "code",
   "execution_count": null,
   "id": "d51cca7f",
   "metadata": {},
   "outputs": [],
   "source": [
    "import sympy as sym\n",
    "import numpy as np"
   ]
  },
  {
   "cell_type": "code",
   "execution_count": null,
   "id": "3b4dc417",
   "metadata": {},
   "outputs": [],
   "source": [
    "X_m =  1.0  # phasor module\n",
    "X_ang =  0.0  # phasor angle \n",
    "\n",
    "X_ma = X_mb = X_mc = X_m\n",
    "\n",
    "X_a = X_ma*np.exp(1j*X_ang) \n",
    "X_b = X_mb*np.exp(1j*(X_ang-2/3*np.pi)) \n",
    "X_c = X_mc*np.exp(1j*(X_ang-4/3*np.pi)) \n",
    "\n",
    "theta = 0.5\n",
    "\n",
    "a = np.real(factor*X_a*np.exp(1j*theta)) \n",
    "b = np.real(factor*X_b*np.exp(1j*theta)) \n",
    "c = np.real(factor*X_c*np.exp(1j*theta)) \n",
    "\n",
    "alpha = 2/3*(a - 0.5*b - 0.5*c)\n",
    "beta = 2/3*(np.sqrt(3)/2*b - np.sqrt(3)/2*c)\n",
    "\n",
    "d =  ( alpha*np.cos(theta) + beta*np.sin(theta));\n",
    "q =  (-alpha*np.sin(theta) + beta*np.cos(theta));\n",
    "\n",
    "print(f'a = {a:0.2f}, b = {b:0.2f}, c = {c:0.2f}')\n",
    "print(f'alpha = {alpha:0.2f}, beta = {beta:0.2f}')\n",
    "print(f'd = {d:0.2f}, q = {q:0.2f}')"
   ]
  },
  {
   "cell_type": "markdown",
   "id": "6a4056b8",
   "metadata": {},
   "source": [
    "## Equivalencia con pydae 1"
   ]
  },
  {
   "cell_type": "code",
   "execution_count": null,
   "id": "e0900391",
   "metadata": {},
   "outputs": [],
   "source": [
    "factor = 1.0\n",
    "a = np.real(factor*X_a*np.exp(1j*theta)) \n",
    "b = np.real(factor*X_b*np.exp(1j*theta)) \n",
    "c = np.real(factor*X_c*np.exp(1j*theta)) \n",
    "\n",
    "alpha = 2/3*(a - 0.5*b - 0.5*c)\n",
    "beta  =-2/3*(np.sqrt(3)/2*b - np.sqrt(3)/2*c)\n",
    "\n",
    "d = alpha * np.cos(theta) - beta * np.sin(theta)   \n",
    "q = alpha * np.sin(theta) + beta * np.cos(theta)\n",
    "\n",
    "print(f'a = {a:0.2f}, b = {b:0.2f}, c = {c:0.2f}')\n",
    "print(f'alpha = {alpha:0.2f}, beta = {beta:0.2f}')\n",
    "print(f'd = {d:0.2f}, q = {q:0.2f}')"
   ]
  },
  {
   "cell_type": "markdown",
   "id": "1f45666e",
   "metadata": {},
   "source": [
    "#### Phasor definition"
   ]
  },
  {
   "cell_type": "code",
   "execution_count": null,
   "id": "1a2881ed",
   "metadata": {},
   "outputs": [],
   "source": [
    "X_m =  1.0  # phasor module\n",
    "X_ang =  0.2  # phasor angle \n",
    "\n",
    "X = X_m*np.exp(1j*X_a)\n",
    "\n",
    "print(f'X_m = {X_m:0.3f}, X_a = {X_ang:0.3f}')"
   ]
  },
  {
   "cell_type": "markdown",
   "id": "94c97d97",
   "metadata": {},
   "source": [
    "#### Phasor to generic DQ"
   ]
  },
  {
   "cell_type": "code",
   "execution_count": null,
   "id": "8937c6d0",
   "metadata": {},
   "outputs": [],
   "source": [
    "r = X.real   # X_m*cos(X_a)\n",
    "i = X.imag   # X_m*sin(X_a)\n",
    "\n",
    "D = i\n",
    "Q = r\n",
    "\n",
    "print(f'D = {D:0.3f}, Q = {Q:0.3f}')"
   ]
  },
  {
   "cell_type": "markdown",
   "id": "d493e8bd",
   "metadata": {},
   "source": [
    "### Park transform DQ to dq with angle $\\delta$"
   ]
  },
  {
   "cell_type": "code",
   "execution_count": null,
   "id": "88d409f5",
   "metadata": {},
   "outputs": [],
   "source": [
    "delta = 0.1\n",
    "\n",
    "d = D * np.cos(delta) - Q * np.sin(delta)   \n",
    "q = D * np.sin(delta) + Q * np.cos(delta)\n",
    "\n",
    "print(f'd = {d:0.3f}, q = {q:0.3f}')"
   ]
  },
  {
   "cell_type": "markdown",
   "id": "7d54a2fd",
   "metadata": {},
   "source": [
    "#### Inverse Park transform dq to DQ with angle $\\delta$"
   ]
  },
  {
   "cell_type": "code",
   "execution_count": null,
   "id": "39950646",
   "metadata": {},
   "outputs": [],
   "source": [
    "D =  d * np.cos(delta) + q * np.sin(delta)   \n",
    "Q = -d * np.sin(delta) + q * np.cos(delta) \n",
    "\n",
    "print(f'D = {D:0.3f}, Q = {Q:0.3f}')"
   ]
  },
  {
   "cell_type": "markdown",
   "id": "37bccc6f",
   "metadata": {},
   "source": [
    "#### From DQ to phasor"
   ]
  },
  {
   "cell_type": "code",
   "execution_count": null,
   "id": "14d530df",
   "metadata": {},
   "outputs": [],
   "source": [
    "i = D\n",
    "r = Q\n",
    "print(f'r = {r:0.3f}, i = {i:0.3f}')\n",
    "\n",
    "P_m = np.sqrt(r**2 + i**2)\n",
    "P_a = np.arctan2(i,r)\n",
    "print(f'P_m = {P_m:0.3f}, P_a = {P_a:0.3f}')"
   ]
  },
  {
   "cell_type": "code",
   "execution_count": null,
   "id": "03b110e1",
   "metadata": {},
   "outputs": [],
   "source": []
  },
  {
   "cell_type": "code",
   "execution_count": null,
   "id": "62dd24cc",
   "metadata": {},
   "outputs": [],
   "source": [
    "sin = np.sin\n",
    "cos = np.cos\n",
    "pi23 = 2.0/3.0*np.pi\n",
    "\n",
    "X_m = 1.0\n",
    "theta = np.pi/3\n",
    "\n",
    "a = X_m*sin(theta);\n",
    "b = X_m*sin(theta - pi23);\n",
    "c = X_m*sin(theta + pi23);\n",
    "\n",
    "print(f'a = {a:0.3f}, b = {b:0.3f}, c = {c:0.3f}')\n",
    "\n",
    "d =  2.0/3.0*(a*cos(theta) + b*cos(theta-pi23)  + c*cos(theta+pi23));\n",
    "q = -2.0/3.0*(a*sin(theta) + b*sin(theta-pi23)  + c*sin(theta+pi23));\n",
    "\n",
    "print(f'd = {d:0.3f}, q = {q:0.3f}')\n",
    "\n",
    "a =  (d*cos(theta)      - q*sin(theta));\n",
    "b =  (d*cos(theta-pi23) - q*sin(theta-pi23));\n",
    "c =  (d*cos(theta+pi23) - q*sin(theta+pi23));\n",
    "\n",
    "print(f'a = {a:0.3f}, b = {b:0.3f}, c = {c:0.3f}')"
   ]
  },
  {
   "cell_type": "code",
   "execution_count": null,
   "id": "fced1164",
   "metadata": {},
   "outputs": [],
   "source": [
    ".866/0.183"
   ]
  },
  {
   "cell_type": "code",
   "execution_count": null,
   "id": "028aeecd",
   "metadata": {},
   "outputs": [],
   "source": [
    "c"
   ]
  },
  {
   "cell_type": "code",
   "execution_count": null,
   "id": "1beca97f",
   "metadata": {},
   "outputs": [],
   "source": []
  }
 ],
 "metadata": {
  "jupytext": {
   "formats": "ipynb,md:myst",
   "text_representation": {
    "extension": ".md",
    "format_name": "myst",
    "format_version": 0.13,
    "jupytext_version": "1.14.1"
   }
  },
  "kernelspec": {
   "display_name": "Python 3 (ipykernel)",
   "language": "python",
   "name": "python3"
  },
  "language_info": {
   "codemirror_mode": {
    "name": "ipython",
    "version": 3
   },
   "file_extension": ".py",
   "mimetype": "text/x-python",
   "name": "python",
   "nbconvert_exporter": "python",
   "pygments_lexer": "ipython3",
   "version": "3.9.13"
  },
  "source_map": [
   13,
   17,
   61,
   63,
   67,
   70,
   74,
   81,
   85,
   93,
   97,
   104,
   108,
   113,
   117,
   125,
   129,
   176,
   180,
   184,
   190,
   194,
   196,
   205,
   218,
   246,
   250,
   258,
   262,
   266,
   270,
   289,
   308,
   312,
   339,
   343,
   347,
   372,
   376,
   394,
   438,
   442,
   446,
   448,
   452,
   457,
   482,
   486,
   501,
   505,
   512,
   516,
   524,
   528,
   535,
   539,
   544,
   548,
   558,
   562,
   588,
   592,
   596
  ]
 },
 "nbformat": 4,
 "nbformat_minor": 5
}